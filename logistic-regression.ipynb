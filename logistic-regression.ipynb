{
 "cells": [
  {
   "cell_type": "code",
   "execution_count": 1,
   "id": "714bde06",
   "metadata": {
    "_cell_guid": "b1076dfc-b9ad-4769-8c92-a6c4dae69d19",
    "_uuid": "8f2839f25d086af736a60e9eeb907d3b93b6e0e5",
    "collapsed": true,
    "execution": {
     "iopub.execute_input": "2025-05-12T20:11:19.965796Z",
     "iopub.status.busy": "2025-05-12T20:11:19.965449Z",
     "iopub.status.idle": "2025-05-12T20:11:22.029171Z",
     "shell.execute_reply": "2025-05-12T20:11:22.027646Z"
    },
    "jupyter": {
     "outputs_hidden": true
    },
    "papermill": {
     "duration": 2.073562,
     "end_time": "2025-05-12T20:11:22.031047",
     "exception": false,
     "start_time": "2025-05-12T20:11:19.957485",
     "status": "completed"
    },
    "tags": []
   },
   "outputs": [
    {
     "name": "stdout",
     "output_type": "stream",
     "text": [
      "/kaggle/input/lending-club/rejected_2007_to_2018Q4.csv.gz\n",
      "/kaggle/input/lending-club/accepted_2007_to_2018Q4.csv.gz\n",
      "/kaggle/input/lending-club/accepted_2007_to_2018q4.csv/accepted_2007_to_2018Q4.csv\n",
      "/kaggle/input/lending-club/rejected_2007_to_2018q4.csv/rejected_2007_to_2018Q4.csv\n"
     ]
    }
   ],
   "source": [
    "import numpy as np\n",
    "import pandas as pd\n",
    "import os\n",
    "for dirname, _, filenames in os.walk('/kaggle/input'):\n",
    "    for filename in filenames:\n",
    "        print(os.path.join(dirname, filename))"
   ]
  },
  {
   "cell_type": "markdown",
   "id": "05e920a5",
   "metadata": {
    "papermill": {
     "duration": 0.005726,
     "end_time": "2025-05-12T20:11:22.043626",
     "exception": false,
     "start_time": "2025-05-12T20:11:22.037900",
     "status": "completed"
    },
    "tags": []
   },
   "source": [
    "# Install PySpark"
   ]
  },
  {
   "cell_type": "code",
   "execution_count": 2,
   "id": "2a0bf0a4",
   "metadata": {
    "collapsed": true,
    "execution": {
     "iopub.execute_input": "2025-05-12T20:11:22.058386Z",
     "iopub.status.busy": "2025-05-12T20:11:22.057928Z",
     "iopub.status.idle": "2025-05-12T20:11:27.238343Z",
     "shell.execute_reply": "2025-05-12T20:11:27.237032Z"
    },
    "jupyter": {
     "outputs_hidden": true
    },
    "papermill": {
     "duration": 5.190138,
     "end_time": "2025-05-12T20:11:27.241024",
     "exception": false,
     "start_time": "2025-05-12T20:11:22.050886",
     "status": "completed"
    },
    "tags": []
   },
   "outputs": [
    {
     "name": "stdout",
     "output_type": "stream",
     "text": [
      "Requirement already satisfied: PySpark in /usr/local/lib/python3.11/dist-packages (3.5.4)\r\n",
      "Requirement already satisfied: py4j==0.10.9.7 in /usr/local/lib/python3.11/dist-packages (from PySpark) (0.10.9.7)\r\n"
     ]
    }
   ],
   "source": [
    "!pip install PySpark"
   ]
  },
  {
   "cell_type": "code",
   "execution_count": 3,
   "id": "0b82b65f",
   "metadata": {
    "execution": {
     "iopub.execute_input": "2025-05-12T20:11:27.255634Z",
     "iopub.status.busy": "2025-05-12T20:11:27.255277Z",
     "iopub.status.idle": "2025-05-12T20:11:27.796107Z",
     "shell.execute_reply": "2025-05-12T20:11:27.794830Z"
    },
    "papermill": {
     "duration": 0.550199,
     "end_time": "2025-05-12T20:11:27.797635",
     "exception": false,
     "start_time": "2025-05-12T20:11:27.247436",
     "status": "completed"
    },
    "tags": []
   },
   "outputs": [
    {
     "name": "stdout",
     "output_type": "stream",
     "text": [
      "Import Libraries\n"
     ]
    }
   ],
   "source": [
    "from pyspark.sql import SparkSession\n",
    "from pyspark.sql.functions import *\n",
    "import logging\n",
    "import sys\n",
    "import os\n",
    "\n",
    "print('Import Libraries')"
   ]
  },
  {
   "cell_type": "code",
   "execution_count": 4,
   "id": "ac5744f1",
   "metadata": {
    "collapsed": true,
    "execution": {
     "iopub.execute_input": "2025-05-12T20:11:27.812658Z",
     "iopub.status.busy": "2025-05-12T20:11:27.812240Z",
     "iopub.status.idle": "2025-05-12T20:11:35.878940Z",
     "shell.execute_reply": "2025-05-12T20:11:35.877765Z"
    },
    "jupyter": {
     "outputs_hidden": true
    },
    "papermill": {
     "duration": 8.076893,
     "end_time": "2025-05-12T20:11:35.880929",
     "exception": false,
     "start_time": "2025-05-12T20:11:27.804036",
     "status": "completed"
    },
    "tags": []
   },
   "outputs": [
    {
     "name": "stderr",
     "output_type": "stream",
     "text": [
      "Setting default log level to \"WARN\".\n",
      "To adjust logging level use sc.setLogLevel(newLevel). For SparkR, use setLogLevel(newLevel).\n",
      "25/05/12 20:11:33 WARN NativeCodeLoader: Unable to load native-hadoop library for your platform... using builtin-java classes where applicable\n"
     ]
    }
   ],
   "source": [
    "spark = SparkSession.builder                                        \\\n",
    "                    .appName(\"LendingClubAnalysis\")                 \\\n",
    "                    .config(\"spark.ui.showConsoleProgress\",\"false\") \\\n",
    "                    .getOrCreate() \n",
    "\n",
    "spark.sparkContext.setLogLevel(\"ERROR\")"
   ]
  },
  {
   "cell_type": "code",
   "execution_count": 5,
   "id": "a160733b",
   "metadata": {
    "execution": {
     "iopub.execute_input": "2025-05-12T20:11:35.895080Z",
     "iopub.status.busy": "2025-05-12T20:11:35.894614Z",
     "iopub.status.idle": "2025-05-12T20:13:30.881951Z",
     "shell.execute_reply": "2025-05-12T20:13:30.880910Z"
    },
    "papermill": {
     "duration": 114.996445,
     "end_time": "2025-05-12T20:13:30.883763",
     "exception": false,
     "start_time": "2025-05-12T20:11:35.887318",
     "status": "completed"
    },
    "tags": []
   },
   "outputs": [],
   "source": [
    "accepted_df = spark.read.option(\"header\", True)                                             \\\n",
    "                        .option(\"inferSchema\", True)                                        \\\n",
    "                        .option(\"multiLine\", True)                                          \\\n",
    "                        .option(\"escape\", '\"')                                              \\\n",
    "                        .csv(\"/kaggle/input/lending-club/accepted_2007_to_2018Q4.csv.gz\")\n",
    "\n",
    "rejected_df = spark.read.option(\"header\", True)                                            \\\n",
    "                        .option(\"inferSchema\", True)                                        \\\n",
    "                        .option(\"multiLine\", True)                                          \\\n",
    "                        .option(\"escape\", '\"')                                              \\\n",
    "                        .csv(\"/kaggle/input/lending-club/rejected_2007_to_2018Q4.csv.gz\")"
   ]
  },
  {
   "cell_type": "markdown",
   "id": "1b8e2f9b",
   "metadata": {
    "papermill": {
     "duration": 0.006267,
     "end_time": "2025-05-12T20:13:30.896767",
     "exception": false,
     "start_time": "2025-05-12T20:13:30.890500",
     "status": "completed"
    },
    "tags": []
   },
   "source": [
    "# Combined Dataset\n",
    "* loan_amnt\n",
    "* emp_length\n",
    "* dti\n",
    "* addr_state\n",
    "* policy_code\n",
    "* accepted_flag"
   ]
  },
  {
   "cell_type": "code",
   "execution_count": 6,
   "id": "f698cad1",
   "metadata": {
    "execution": {
     "iopub.execute_input": "2025-05-12T20:13:30.910379Z",
     "iopub.status.busy": "2025-05-12T20:13:30.910064Z",
     "iopub.status.idle": "2025-05-12T20:13:31.349152Z",
     "shell.execute_reply": "2025-05-12T20:13:31.348134Z"
    },
    "papermill": {
     "duration": 0.448773,
     "end_time": "2025-05-12T20:13:31.351642",
     "exception": false,
     "start_time": "2025-05-12T20:13:30.902869",
     "status": "completed"
    },
    "tags": []
   },
   "outputs": [],
   "source": [
    "# Accpeted\n",
    "accepted_df = accepted_df.withColumn('accepted_flag', lit(1)) \\\n",
    "                         .select('loan_amnt', 'emp_length', 'dti', 'addr_state', 'policy_code', 'accepted_flag')\n",
    "\n",
    "# Rejected\n",
    "rejected_df = rejected_df.withColumnRenamed('Amount Requested', 'loan_amnt') \\\n",
    "                         .withColumnRenamed('Employment Length', 'emp_length') \\\n",
    "                         .withColumnRenamed('State', 'addr_state') \\\n",
    "                         .withColumnRenamed('Policy Code', 'policy_code') \\\n",
    "                         .withColumn('dti', regexp_replace(col('Debt-To-Income Ratio'), '%', '').cast('double')) \\\n",
    "                         .withColumn('accepted_flag', lit(0)) \\\n",
    "                         .select('loan_amnt', 'emp_length', 'dti', 'addr_state', 'policy_code', 'accepted_flag')"
   ]
  },
  {
   "cell_type": "code",
   "execution_count": 7,
   "id": "7037346a",
   "metadata": {
    "execution": {
     "iopub.execute_input": "2025-05-12T20:13:31.366694Z",
     "iopub.status.busy": "2025-05-12T20:13:31.366379Z",
     "iopub.status.idle": "2025-05-12T20:13:31.512462Z",
     "shell.execute_reply": "2025-05-12T20:13:31.511686Z"
    },
    "papermill": {
     "duration": 0.154851,
     "end_time": "2025-05-12T20:13:31.514039",
     "exception": false,
     "start_time": "2025-05-12T20:13:31.359188",
     "status": "completed"
    },
    "tags": []
   },
   "outputs": [],
   "source": [
    "# Combine 2 datsets\n",
    "combined_df = accepted_df.union(rejected_df)\n",
    "\n",
    "combined_df = combined_df.withColumn('emp_length_years',\n",
    "                       when(col('emp_length') == '< 1 year', 0)\n",
    "                       .when(col('emp_length') == '1 year', 1)\n",
    "                       .when(col('emp_length') == '2 years', 2)\n",
    "                       .when(col('emp_length') == '3 years', 3)\n",
    "                       .when(col('emp_length') == '4 years', 4)\n",
    "                       .when(col('emp_length') == '5 years', 5)\n",
    "                       .when(col('emp_length') == '6 years', 6)\n",
    "                       .when(col('emp_length') == '7 years', 7)\n",
    "                       .when(col('emp_length') == '8 years', 8)\n",
    "                       .when(col('emp_length') == '9 years', 9)\n",
    "                       .when(col('emp_length') == '10+ years', 10)\n",
    "                       .when(col('emp_length').isNull(), -1)\n",
    "                       .otherwise(-1))\n",
    "\n",
    "combined_df = combined_df.drop('emp_length')"
   ]
  },
  {
   "cell_type": "markdown",
   "id": "c3eb4c5f",
   "metadata": {
    "papermill": {
     "duration": 0.006709,
     "end_time": "2025-05-12T20:13:31.526965",
     "exception": false,
     "start_time": "2025-05-12T20:13:31.520256",
     "status": "completed"
    },
    "tags": []
   },
   "source": [
    "# Handle Null values"
   ]
  },
  {
   "cell_type": "code",
   "execution_count": 8,
   "id": "00fb5f53",
   "metadata": {
    "execution": {
     "iopub.execute_input": "2025-05-12T20:13:31.542385Z",
     "iopub.status.busy": "2025-05-12T20:13:31.542029Z",
     "iopub.status.idle": "2025-05-12T20:14:46.691551Z",
     "shell.execute_reply": "2025-05-12T20:14:46.690461Z"
    },
    "papermill": {
     "duration": 75.166231,
     "end_time": "2025-05-12T20:14:46.700323",
     "exception": false,
     "start_time": "2025-05-12T20:13:31.534092",
     "status": "completed"
    },
    "tags": []
   },
   "outputs": [
    {
     "data": {
      "text/html": [
       "<div>\n",
       "<style scoped>\n",
       "    .dataframe tbody tr th:only-of-type {\n",
       "        vertical-align: middle;\n",
       "    }\n",
       "\n",
       "    .dataframe tbody tr th {\n",
       "        vertical-align: top;\n",
       "    }\n",
       "\n",
       "    .dataframe thead th {\n",
       "        text-align: right;\n",
       "    }\n",
       "</style>\n",
       "<table border=\"1\" class=\"dataframe\">\n",
       "  <thead>\n",
       "    <tr style=\"text-align: right;\">\n",
       "      <th></th>\n",
       "      <th>loan_amnt</th>\n",
       "      <th>dti</th>\n",
       "      <th>addr_state</th>\n",
       "      <th>policy_code</th>\n",
       "      <th>accepted_flag</th>\n",
       "      <th>emp_length_years</th>\n",
       "    </tr>\n",
       "  </thead>\n",
       "  <tbody>\n",
       "    <tr>\n",
       "      <th>0</th>\n",
       "      <td>0</td>\n",
       "      <td>0</td>\n",
       "      <td>22</td>\n",
       "      <td>918</td>\n",
       "      <td>0</td>\n",
       "      <td>0</td>\n",
       "    </tr>\n",
       "  </tbody>\n",
       "</table>\n",
       "</div>"
      ],
      "text/plain": [
       "   loan_amnt  dti  addr_state  policy_code  accepted_flag  emp_length_years\n",
       "0          0    0          22          918              0                 0"
      ]
     },
     "execution_count": 8,
     "metadata": {},
     "output_type": "execute_result"
    }
   ],
   "source": [
    "from pyspark.sql.functions import col, sum as spark_sum\n",
    "\n",
    "# Drop'loan_amnt' and 'dti' Null values\n",
    "\n",
    "combined_df.dropna(subset=['loan_amnt', 'dti']) \\\n",
    "           .select([\n",
    "    spark_sum(col(c).isNull().cast(\"int\")).alias(c)\n",
    "    for c in combined_df.columns\n",
    "]).toPandas()"
   ]
  },
  {
   "cell_type": "code",
   "execution_count": 9,
   "id": "62f325ae",
   "metadata": {
    "execution": {
     "iopub.execute_input": "2025-05-12T20:14:46.716201Z",
     "iopub.status.busy": "2025-05-12T20:14:46.715636Z",
     "iopub.status.idle": "2025-05-12T20:15:38.669376Z",
     "shell.execute_reply": "2025-05-12T20:15:38.665502Z"
    },
    "papermill": {
     "duration": 51.972909,
     "end_time": "2025-05-12T20:15:38.680946",
     "exception": false,
     "start_time": "2025-05-12T20:14:46.708037",
     "status": "completed"
    },
    "tags": []
   },
   "outputs": [
    {
     "data": {
      "text/plain": [
       "29907698"
      ]
     },
     "execution_count": 9,
     "metadata": {},
     "output_type": "execute_result"
    }
   ],
   "source": [
    "combined_df = combined_df.withColumn('policy_code', col('policy_code').cast('string')) \\\n",
    "                         .dropna(subset = ['loan_amnt', 'dti']) \\\n",
    "                         .fillna('unknown', subset = ['addr_state', 'policy_code'])\n",
    "\n",
    "combined_df.count()"
   ]
  },
  {
   "cell_type": "markdown",
   "id": "8c247e02",
   "metadata": {
    "papermill": {
     "duration": 0.007061,
     "end_time": "2025-05-12T20:15:38.695128",
     "exception": false,
     "start_time": "2025-05-12T20:15:38.688067",
     "status": "completed"
    },
    "tags": []
   },
   "source": [
    "# Encode Categorical Variables "
   ]
  },
  {
   "cell_type": "code",
   "execution_count": 10,
   "id": "7a00c730",
   "metadata": {
    "execution": {
     "iopub.execute_input": "2025-05-12T20:15:38.710003Z",
     "iopub.status.busy": "2025-05-12T20:15:38.709351Z",
     "iopub.status.idle": "2025-05-12T20:15:39.666905Z",
     "shell.execute_reply": "2025-05-12T20:15:39.665759Z"
    },
    "papermill": {
     "duration": 0.967051,
     "end_time": "2025-05-12T20:15:39.668894",
     "exception": false,
     "start_time": "2025-05-12T20:15:38.701843",
     "status": "completed"
    },
    "tags": []
   },
   "outputs": [],
   "source": [
    "from pyspark.ml.feature import StringIndexer, OneHotEncoder\n",
    "\n",
    "categorical_cols = [\"addr_state\", \"policy_code\"]\n",
    "\n",
    "# StringIndexer — turns strings into numeric category indices\n",
    "indexers = [\n",
    "    StringIndexer(inputCol=c, outputCol=c + \"_idx\", handleInvalid=\"keep\")\n",
    "    for c in categorical_cols\n",
    "]\n",
    "\n",
    "# OneHotEncoder — turns those indices into binary vectors, so there's no ordering\n",
    "encoders = [\n",
    "    OneHotEncoder(inputCol=c + \"_idx\", outputCol=c + \"_vec\")\n",
    "    for c in categorical_cols\n",
    "]"
   ]
  },
  {
   "cell_type": "markdown",
   "id": "217ae0d2",
   "metadata": {
    "papermill": {
     "duration": 0.006379,
     "end_time": "2025-05-12T20:15:39.681656",
     "exception": false,
     "start_time": "2025-05-12T20:15:39.675277",
     "status": "completed"
    },
    "tags": []
   },
   "source": [
    "# Assemble Features\n",
    "\n",
    "* features: contains a single vector of all features per row\n",
    "* label: the outcome trying to predict"
   ]
  },
  {
   "cell_type": "code",
   "execution_count": 11,
   "id": "58f138cf",
   "metadata": {
    "execution": {
     "iopub.execute_input": "2025-05-12T20:15:39.695809Z",
     "iopub.status.busy": "2025-05-12T20:15:39.695290Z",
     "iopub.status.idle": "2025-05-12T20:15:39.715348Z",
     "shell.execute_reply": "2025-05-12T20:15:39.714293Z"
    },
    "papermill": {
     "duration": 0.029332,
     "end_time": "2025-05-12T20:15:39.717307",
     "exception": false,
     "start_time": "2025-05-12T20:15:39.687975",
     "status": "completed"
    },
    "tags": []
   },
   "outputs": [],
   "source": [
    "from pyspark.ml.feature import VectorAssembler\n",
    "\n",
    "feature_cols = [\"loan_amnt\", \"dti\", \"emp_length_years\"] + [c+\"_vec\" for c in categorical_cols]\n",
    "assembler = VectorAssembler(inputCols=feature_cols, outputCol=\"features\")"
   ]
  },
  {
   "cell_type": "markdown",
   "id": "312627cf",
   "metadata": {
    "papermill": {
     "duration": 0.00618,
     "end_time": "2025-05-12T20:15:39.730236",
     "exception": false,
     "start_time": "2025-05-12T20:15:39.724056",
     "status": "completed"
    },
    "tags": []
   },
   "source": [
    "# Split into Train and Test Sets (80:20) \n",
    "with random_state(seed) = 42"
   ]
  },
  {
   "cell_type": "code",
   "execution_count": 12,
   "id": "469b0e46",
   "metadata": {
    "execution": {
     "iopub.execute_input": "2025-05-12T20:15:39.744135Z",
     "iopub.status.busy": "2025-05-12T20:15:39.743811Z",
     "iopub.status.idle": "2025-05-12T20:15:39.785873Z",
     "shell.execute_reply": "2025-05-12T20:15:39.784343Z"
    },
    "papermill": {
     "duration": 0.051819,
     "end_time": "2025-05-12T20:15:39.788390",
     "exception": false,
     "start_time": "2025-05-12T20:15:39.736571",
     "status": "completed"
    },
    "tags": []
   },
   "outputs": [],
   "source": [
    "train_df, test_df = combined_df.randomSplit([0.8, 0.2], seed=42)"
   ]
  },
  {
   "cell_type": "markdown",
   "id": "f85aede3",
   "metadata": {
    "papermill": {
     "duration": 0.01094,
     "end_time": "2025-05-12T20:15:39.810876",
     "exception": false,
     "start_time": "2025-05-12T20:15:39.799936",
     "status": "completed"
    },
    "tags": []
   },
   "source": [
    "## Train the Logistic Regression Model"
   ]
  },
  {
   "cell_type": "code",
   "execution_count": 13,
   "id": "628ea320",
   "metadata": {
    "execution": {
     "iopub.execute_input": "2025-05-12T20:15:39.827741Z",
     "iopub.status.busy": "2025-05-12T20:15:39.827366Z",
     "iopub.status.idle": "2025-05-12T20:33:06.936659Z",
     "shell.execute_reply": "2025-05-12T20:33:06.935481Z"
    },
    "papermill": {
     "duration": 1047.119408,
     "end_time": "2025-05-12T20:33:06.939176",
     "exception": false,
     "start_time": "2025-05-12T20:15:39.819768",
     "status": "completed"
    },
    "tags": []
   },
   "outputs": [],
   "source": [
    "from pyspark.ml.classification import LogisticRegression\n",
    "from pyspark.ml import Pipeline\n",
    "\n",
    "lr = LogisticRegression(featuresCol=\"features\", labelCol=\"accepted_flag\")\n",
    "\n",
    "pipeline = Pipeline(stages=indexers + encoders + [assembler, lr])\n",
    "model = pipeline.fit(train_df)"
   ]
  },
  {
   "cell_type": "markdown",
   "id": "c432a5a9",
   "metadata": {
    "papermill": {
     "duration": 0.010929,
     "end_time": "2025-05-12T20:33:06.963116",
     "exception": false,
     "start_time": "2025-05-12T20:33:06.952187",
     "status": "completed"
    },
    "tags": []
   },
   "source": [
    "## Coefficients\n",
    "\n",
    "**Early read**: there are some extreme positive/negative coefficients\n",
    "\n",
    "**Next step**: Map coefficient back to each feature to spot leak channels"
   ]
  },
  {
   "cell_type": "code",
   "execution_count": 14,
   "id": "6d369fbe",
   "metadata": {
    "execution": {
     "iopub.execute_input": "2025-05-12T20:33:06.986446Z",
     "iopub.status.busy": "2025-05-12T20:33:06.985631Z",
     "iopub.status.idle": "2025-05-12T20:33:07.015841Z",
     "shell.execute_reply": "2025-05-12T20:33:07.015069Z"
    },
    "papermill": {
     "duration": 0.043481,
     "end_time": "2025-05-12T20:33:07.017482",
     "exception": false,
     "start_time": "2025-05-12T20:33:06.974001",
     "status": "completed"
    },
    "tags": []
   },
   "outputs": [
    {
     "name": "stdout",
     "output_type": "stream",
     "text": [
      "[1.096302269771589e-06,-7.866207239568027e-07,0.12335969755511171,0.02444547611701913,-0.01396691383801554,-0.015019836065513844,0.02030365467510789,-0.022558701156822503,-0.013839889656227252,0.01441071624262537,-0.010193516033161761,0.0236267639361022,-0.01397820156951371,-0.0050518260603090925,0.008263774079601839,0.014672923936338952,0.011718332603437666,-0.03089550831497946,0.021939149116990176,-0.011715686653506335,0.021063753953072858,-0.01237432379402495,-0.03827879810850071,0.027561760033391825,-0.035941662578112085,-0.03139312332212749,0.04410850173828946,0.002986029138845404,0.041051465933445906,-0.026055572238591326,0.027368204164907976,-0.021525913124545902,0.015845716669709877,-0.03419754841238663,-0.05097572552799102,0.0030909131371911042,0.003964581091864123,-0.017377378880303936,-0.019264609439733665,0.020018237498868077,0.010786136554287364,-0.02549444775989643,0.014202938241314151,-0.017832919351346472,-0.046850468422487045,-0.03077516330839989,0.007502339304310314,0.010639507929680823,-0.006933063211038868,0.02878880050597175,0.023071736282007496,0.025298616577026534,-0.019476371092536093,-0.12246320321733432,-0.06655534824093161,-19.676370902997235,22.086855125593843,-39.61853345679475,-81.05600244262294]\n"
     ]
    }
   ],
   "source": [
    "lr_model = model.stages[-1]\n",
    "print(lr_model.coefficients)"
   ]
  },
  {
   "cell_type": "markdown",
   "id": "9448c6cd",
   "metadata": {
    "papermill": {
     "duration": 0.010347,
     "end_time": "2025-05-12T20:33:07.039175",
     "exception": false,
     "start_time": "2025-05-12T20:33:07.028828",
     "status": "completed"
    },
    "tags": []
   },
   "source": [
    "## Predictions"
   ]
  },
  {
   "cell_type": "code",
   "execution_count": 15,
   "id": "fab2cf0b",
   "metadata": {
    "execution": {
     "iopub.execute_input": "2025-05-12T20:33:07.062543Z",
     "iopub.status.busy": "2025-05-12T20:33:07.062147Z",
     "iopub.status.idle": "2025-05-12T20:33:41.714576Z",
     "shell.execute_reply": "2025-05-12T20:33:41.712208Z"
    },
    "papermill": {
     "duration": 34.696815,
     "end_time": "2025-05-12T20:33:41.746701",
     "exception": false,
     "start_time": "2025-05-12T20:33:07.049886",
     "status": "completed"
    },
    "tags": []
   },
   "outputs": [
    {
     "name": "stdout",
     "output_type": "stream",
     "text": [
      "+-------------+----------+--------------------+\n",
      "|accepted_flag|prediction|         probability|\n",
      "+-------------+----------+--------------------+\n",
      "|            1|       1.0|[1.21460540006558...|\n",
      "|            1|       1.0|[1.59487351917949...|\n",
      "|            1|       1.0|[1.06157027660719...|\n",
      "|            1|       1.0|[1.39534549485303...|\n",
      "|            1|       1.0|[1.56980500111131...|\n",
      "|            1|       1.0|[1.59433652495956...|\n",
      "|            1|       1.0|[1.09280001823072...|\n",
      "|            1|       1.0|[4.48594646049098...|\n",
      "|            1|       1.0|[4.60751040989100...|\n",
      "|            1|       1.0|[1.59398698833057...|\n",
      "|            1|       1.0|[1.35785914653217...|\n",
      "|            1|       1.0|[1.73735960076719...|\n",
      "|            1|       1.0|[6.65335507681848...|\n",
      "|            1|       1.0|[1.52204214918534...|\n",
      "|            1|       1.0|[1.24419188936549...|\n",
      "|            1|       1.0|[1.38715249601910...|\n",
      "|            1|       1.0|[4.60266161291823...|\n",
      "|            1|       1.0|[4.42921610662747...|\n",
      "|            1|       1.0|[4.69672638380381...|\n",
      "|            1|       1.0|[1.35750368601146...|\n",
      "+-------------+----------+--------------------+\n",
      "only showing top 20 rows\n",
      "\n"
     ]
    }
   ],
   "source": [
    "predictions = model.transform(test_df)\n",
    "predictions.select(\"accepted_flag\", \"prediction\", \"probability\").show()"
   ]
  },
  {
   "cell_type": "markdown",
   "id": "38bd43ae",
   "metadata": {
    "papermill": {
     "duration": 0.010866,
     "end_time": "2025-05-12T20:33:41.771052",
     "exception": false,
     "start_time": "2025-05-12T20:33:41.760186",
     "status": "completed"
    },
    "tags": []
   },
   "source": [
    "## Evaluations"
   ]
  },
  {
   "cell_type": "markdown",
   "id": "669078dd",
   "metadata": {
    "papermill": {
     "duration": 0.011005,
     "end_time": "2025-05-12T20:33:41.792923",
     "exception": false,
     "start_time": "2025-05-12T20:33:41.781918",
     "status": "completed"
    },
    "tags": []
   },
   "source": [
    "### 1. Classification Report & Confusion Matrix"
   ]
  },
  {
   "cell_type": "code",
   "execution_count": 16,
   "id": "ed1d4d8d",
   "metadata": {
    "execution": {
     "iopub.execute_input": "2025-05-12T20:33:41.817850Z",
     "iopub.status.busy": "2025-05-12T20:33:41.817427Z",
     "iopub.status.idle": "2025-05-12T20:37:49.566060Z",
     "shell.execute_reply": "2025-05-12T20:37:49.564764Z"
    },
    "papermill": {
     "duration": 247.763647,
     "end_time": "2025-05-12T20:37:49.567666",
     "exception": false,
     "start_time": "2025-05-12T20:33:41.804019",
     "status": "completed"
    },
    "tags": []
   },
   "outputs": [
    {
     "name": "stdout",
     "output_type": "stream",
     "text": [
      "              precision    recall  f1-score   support\n",
      "\n",
      "    Rejected       1.00      1.00      1.00   5530396\n",
      "    Accepted       1.00      1.00      1.00    451987\n",
      "\n",
      "    accuracy                           1.00   5982383\n",
      "   macro avg       1.00      1.00      1.00   5982383\n",
      "weighted avg       1.00      1.00      1.00   5982383\n",
      "\n"
     ]
    },
    {
     "data": {
      "image/png": "[encoded data removed]",
      "text/plain": [
       "<Figure size 640x480 with 2 Axes>"
      ]
     },
     "metadata": {},
     "output_type": "display_data"
    }
   ],
   "source": [
    "from sklearn.metrics import classification_report, confusion_matrix\n",
    "import seaborn as sns\n",
    "import matplotlib.pyplot as plt\n",
    "\n",
    "# Convert prediction results\n",
    "preds_pd = predictions.select(\"accepted_flag\", \"prediction\").toPandas()\n",
    "print(classification_report(preds_pd[\"accepted_flag\"], preds_pd[\"prediction\"], target_names=[\"Rejected\", \"Accepted\"]))\n",
    "\n",
    "# Visualize Confusion Matrix\n",
    "cm = confusion_matrix(preds_pd[\"accepted_flag\"], preds_pd[\"prediction\"])\n",
    "sns.heatmap(cm, annot=True, fmt='d', cmap=\"Blues\", xticklabels=[\"Rejected\", \"Accepted\"], yticklabels=[\"Rejected\", \"Accepted\"])\n",
    "plt.xlabel(\"Predicted\")\n",
    "plt.ylabel(\"Actual\")\n",
    "plt.title(\"Confusion Matrix\")\n",
    "plt.show()"
   ]
  },
  {
   "cell_type": "markdown",
   "id": "96fdb638",
   "metadata": {
    "papermill": {
     "duration": 0.006793,
     "end_time": "2025-05-12T20:37:49.582797",
     "exception": false,
     "start_time": "2025-05-12T20:37:49.576004",
     "status": "completed"
    },
    "tags": []
   },
   "source": [
    "## 2. AUC"
   ]
  },
  {
   "cell_type": "code",
   "execution_count": 17,
   "id": "d4ec6ad5",
   "metadata": {
    "execution": {
     "iopub.execute_input": "2025-05-12T20:37:49.599021Z",
     "iopub.status.busy": "2025-05-12T20:37:49.598521Z",
     "iopub.status.idle": "2025-05-12T20:42:39.949989Z",
     "shell.execute_reply": "2025-05-12T20:42:39.948741Z"
    },
    "papermill": {
     "duration": 290.368951,
     "end_time": "2025-05-12T20:42:39.959319",
     "exception": false,
     "start_time": "2025-05-12T20:37:49.590368",
     "status": "completed"
    },
    "tags": []
   },
   "outputs": [
    {
     "name": "stdout",
     "output_type": "stream",
     "text": [
      "AUC: 0.9999997086732064\n"
     ]
    }
   ],
   "source": [
    "from pyspark.ml.evaluation import BinaryClassificationEvaluator\n",
    "\n",
    "evaluator = BinaryClassificationEvaluator(labelCol=\"accepted_flag\")\n",
    "print(\"AUC:\", evaluator.evaluate(predictions))"
   ]
  },
  {
   "cell_type": "markdown",
   "id": "8980427d",
   "metadata": {
    "papermill": {
     "duration": 0.006866,
     "end_time": "2025-05-12T20:42:39.973533",
     "exception": false,
     "start_time": "2025-05-12T20:42:39.966667",
     "status": "completed"
    },
    "tags": []
   },
   "source": [
    "# Imbalance and Data Leakage Review"
   ]
  },
  {
   "cell_type": "markdown",
   "id": "03fdd406",
   "metadata": {
    "papermill": {
     "duration": 0.006991,
     "end_time": "2025-05-12T20:42:39.987580",
     "exception": false,
     "start_time": "2025-05-12T20:42:39.980589",
     "status": "completed"
    },
    "tags": []
   },
   "source": [
    "### 1. Check the % of accepted_flag in Train and Test set"
   ]
  },
  {
   "cell_type": "code",
   "execution_count": 18,
   "id": "c3a437d9",
   "metadata": {
    "execution": {
     "iopub.execute_input": "2025-05-12T20:42:40.003086Z",
     "iopub.status.busy": "2025-05-12T20:42:40.002706Z",
     "iopub.status.idle": "2025-05-12T20:53:01.956530Z",
     "shell.execute_reply": "2025-05-12T20:53:01.955229Z"
    },
    "papermill": {
     "duration": 621.984531,
     "end_time": "2025-05-12T20:53:01.979052",
     "exception": false,
     "start_time": "2025-05-12T20:42:39.994521",
     "status": "completed"
    },
    "tags": []
   },
   "outputs": [
    {
     "data": {
      "text/html": [
       "<div>\n",
       "<style scoped>\n",
       "    .dataframe tbody tr th:only-of-type {\n",
       "        vertical-align: middle;\n",
       "    }\n",
       "\n",
       "    .dataframe tbody tr th {\n",
       "        vertical-align: top;\n",
       "    }\n",
       "\n",
       "    .dataframe thead th {\n",
       "        text-align: right;\n",
       "    }\n",
       "</style>\n",
       "<table border=\"1\" class=\"dataframe\">\n",
       "  <thead>\n",
       "    <tr style=\"text-align: right;\">\n",
       "      <th></th>\n",
       "      <th>accepted_flag</th>\n",
       "      <th>train_count</th>\n",
       "      <th>train_percentage</th>\n",
       "      <th>test_count</th>\n",
       "      <th>test_percentage</th>\n",
       "    </tr>\n",
       "  </thead>\n",
       "  <tbody>\n",
       "    <tr>\n",
       "      <th>0</th>\n",
       "      <td>0</td>\n",
       "      <td>22118345</td>\n",
       "      <td>92.45</td>\n",
       "      <td>5530396</td>\n",
       "      <td>92.44</td>\n",
       "    </tr>\n",
       "    <tr>\n",
       "      <th>1</th>\n",
       "      <td>1</td>\n",
       "      <td>1806970</td>\n",
       "      <td>7.55</td>\n",
       "      <td>451987</td>\n",
       "      <td>7.56</td>\n",
       "    </tr>\n",
       "  </tbody>\n",
       "</table>\n",
       "</div>"
      ],
      "text/plain": [
       "   accepted_flag  train_count  train_percentage  test_count  test_percentage\n",
       "0              0     22118345             92.45     5530396            92.44\n",
       "1              1      1806970              7.55      451987             7.56"
      ]
     },
     "execution_count": 18,
     "metadata": {},
     "output_type": "execute_result"
    }
   ],
   "source": [
    "# Calculate % in train_df\n",
    "train_total = train_df.count()\n",
    "\n",
    "train_percentage = train_df.groupBy('accepted_flag') \\\n",
    "    .count() \\\n",
    "    .withColumnRenamed('count', 'train_count') \\\n",
    "    .withColumn('train_percentage', round((col('train_count') / train_total) * 100, 2))\n",
    "\n",
    "# Calculate % in test_df\n",
    "test_total = test_df.count()\n",
    "\n",
    "test_percentage = test_df.groupBy('accepted_flag') \\\n",
    "    .count() \\\n",
    "    .withColumnRenamed('count', 'test_count') \\\n",
    "    .withColumn('test_percentage', round((col('test_count') / test_total) * 100, 2))\n",
    "\n",
    "# Overview\n",
    "split = train_percentage.join(test_percentage, 'accepted_flag')\n",
    "split = split.orderBy('accepted_flag').toPandas()\n",
    "split"
   ]
  },
  {
   "cell_type": "markdown",
   "id": "4f123655",
   "metadata": {
    "papermill": {
     "duration": 0.014,
     "end_time": "2025-05-12T20:53:02.007441",
     "exception": false,
     "start_time": "2025-05-12T20:53:01.993441",
     "status": "completed"
    },
    "tags": []
   },
   "source": [
    "### 2. Check for DTI outliers"
   ]
  },
  {
   "cell_type": "code",
   "execution_count": 19,
   "id": "b96054a4",
   "metadata": {
    "execution": {
     "iopub.execute_input": "2025-05-12T20:53:02.035504Z",
     "iopub.status.busy": "2025-05-12T20:53:02.034528Z",
     "iopub.status.idle": "2025-05-12T20:54:08.032638Z",
     "shell.execute_reply": "2025-05-12T20:54:08.031072Z"
    },
    "papermill": {
     "duration": 66.02188,
     "end_time": "2025-05-12T20:54:08.041743",
     "exception": false,
     "start_time": "2025-05-12T20:53:02.019863",
     "status": "completed"
    },
    "tags": []
   },
   "outputs": [
    {
     "data": {
      "text/html": [
       "<div>\n",
       "<style scoped>\n",
       "    .dataframe tbody tr th:only-of-type {\n",
       "        vertical-align: middle;\n",
       "    }\n",
       "\n",
       "    .dataframe tbody tr th {\n",
       "        vertical-align: top;\n",
       "    }\n",
       "\n",
       "    .dataframe thead th {\n",
       "        text-align: right;\n",
       "    }\n",
       "</style>\n",
       "<table border=\"1\" class=\"dataframe\">\n",
       "  <thead>\n",
       "    <tr style=\"text-align: right;\">\n",
       "      <th></th>\n",
       "      <th>summary</th>\n",
       "      <th>dti</th>\n",
       "    </tr>\n",
       "  </thead>\n",
       "  <tbody>\n",
       "    <tr>\n",
       "      <th>0</th>\n",
       "      <td>count</td>\n",
       "      <td>29907698</td>\n",
       "    </tr>\n",
       "    <tr>\n",
       "      <th>1</th>\n",
       "      <td>mean</td>\n",
       "      <td>133.93524948045496</td>\n",
       "    </tr>\n",
       "    <tr>\n",
       "      <th>2</th>\n",
       "      <td>stddev</td>\n",
       "      <td>10133.387168685706</td>\n",
       "    </tr>\n",
       "    <tr>\n",
       "      <th>3</th>\n",
       "      <td>min</td>\n",
       "      <td>-1.0</td>\n",
       "    </tr>\n",
       "    <tr>\n",
       "      <th>4</th>\n",
       "      <td>max</td>\n",
       "      <td>5.000003149E7</td>\n",
       "    </tr>\n",
       "  </tbody>\n",
       "</table>\n",
       "</div>"
      ],
      "text/plain": [
       "  summary                 dti\n",
       "0   count            29907698\n",
       "1    mean  133.93524948045496\n",
       "2  stddev  10133.387168685706\n",
       "3     min                -1.0\n",
       "4     max       5.000003149E7"
      ]
     },
     "execution_count": 19,
     "metadata": {},
     "output_type": "execute_result"
    }
   ],
   "source": [
    "# Descriptive stats - red flag of data quality issue\n",
    "\n",
    "combined_df.select(\"dti\").describe().toPandas()"
   ]
  },
  {
   "cell_type": "code",
   "execution_count": 20,
   "id": "2a5b25ce",
   "metadata": {
    "execution": {
     "iopub.execute_input": "2025-05-12T20:54:08.060637Z",
     "iopub.status.busy": "2025-05-12T20:54:08.060251Z",
     "iopub.status.idle": "2025-05-12T20:55:32.429352Z",
     "shell.execute_reply": "2025-05-12T20:55:32.428370Z"
    },
    "papermill": {
     "duration": 84.393279,
     "end_time": "2025-05-12T20:55:32.443307",
     "exception": false,
     "start_time": "2025-05-12T20:54:08.050028",
     "status": "completed"
    },
    "tags": []
   },
   "outputs": [
    {
     "data": {
      "text/html": [
       "<div>\n",
       "<style scoped>\n",
       "    .dataframe tbody tr th:only-of-type {\n",
       "        vertical-align: middle;\n",
       "    }\n",
       "\n",
       "    .dataframe tbody tr th {\n",
       "        vertical-align: top;\n",
       "    }\n",
       "\n",
       "    .dataframe thead th {\n",
       "        text-align: right;\n",
       "    }\n",
       "</style>\n",
       "<table border=\"1\" class=\"dataframe\">\n",
       "  <thead>\n",
       "    <tr style=\"text-align: right;\">\n",
       "      <th></th>\n",
       "      <th>accepted_flag</th>\n",
       "      <th>count</th>\n",
       "    </tr>\n",
       "  </thead>\n",
       "  <tbody>\n",
       "    <tr>\n",
       "      <th>0</th>\n",
       "      <td>0</td>\n",
       "      <td>2011034</td>\n",
       "    </tr>\n",
       "    <tr>\n",
       "      <th>1</th>\n",
       "      <td>1</td>\n",
       "      <td>2563</td>\n",
       "    </tr>\n",
       "  </tbody>\n",
       "</table>\n",
       "</div>"
      ],
      "text/plain": [
       "   accepted_flag    count\n",
       "0              0  2011034\n",
       "1              1     2563"
      ]
     },
     "execution_count": 20,
     "metadata": {},
     "output_type": "execute_result"
    }
   ],
   "source": [
    "# Loans with invalid dti \n",
    "\n",
    "combined_df.filter((col('dti') < 0) | (col('dti') > 100)).groupBy('accepted_flag').count().orderBy('accepted_flag').toPandas()"
   ]
  },
  {
   "cell_type": "code",
   "execution_count": 21,
   "id": "c877b1a8",
   "metadata": {
    "execution": {
     "iopub.execute_input": "2025-05-12T20:55:32.469857Z",
     "iopub.status.busy": "2025-05-12T20:55:32.469357Z",
     "iopub.status.idle": "2025-05-12T20:56:45.575389Z",
     "shell.execute_reply": "2025-05-12T20:56:45.574078Z"
    },
    "papermill": {
     "duration": 73.133127,
     "end_time": "2025-05-12T20:56:45.589310",
     "exception": false,
     "start_time": "2025-05-12T20:55:32.456183",
     "status": "completed"
    },
    "tags": []
   },
   "outputs": [
    {
     "data": {
      "text/html": [
       "<div>\n",
       "<style scoped>\n",
       "    .dataframe tbody tr th:only-of-type {\n",
       "        vertical-align: middle;\n",
       "    }\n",
       "\n",
       "    .dataframe tbody tr th {\n",
       "        vertical-align: top;\n",
       "    }\n",
       "\n",
       "    .dataframe thead th {\n",
       "        text-align: right;\n",
       "    }\n",
       "</style>\n",
       "<table border=\"1\" class=\"dataframe\">\n",
       "  <thead>\n",
       "    <tr style=\"text-align: right;\">\n",
       "      <th></th>\n",
       "      <th>dti_bucket</th>\n",
       "      <th>count</th>\n",
       "    </tr>\n",
       "  </thead>\n",
       "  <tbody>\n",
       "    <tr>\n",
       "      <th>0</th>\n",
       "      <td>100</td>\n",
       "      <td>1664035</td>\n",
       "    </tr>\n",
       "    <tr>\n",
       "      <th>1</th>\n",
       "      <td>200</td>\n",
       "      <td>123137</td>\n",
       "    </tr>\n",
       "    <tr>\n",
       "      <th>2</th>\n",
       "      <td>300</td>\n",
       "      <td>78550</td>\n",
       "    </tr>\n",
       "    <tr>\n",
       "      <th>3</th>\n",
       "      <td>400</td>\n",
       "      <td>50450</td>\n",
       "    </tr>\n",
       "    <tr>\n",
       "      <th>4</th>\n",
       "      <td>500</td>\n",
       "      <td>32406</td>\n",
       "    </tr>\n",
       "    <tr>\n",
       "      <th>...</th>\n",
       "      <td>...</td>\n",
       "      <td>...</td>\n",
       "    </tr>\n",
       "    <tr>\n",
       "      <th>1628</th>\n",
       "      <td>3974400</td>\n",
       "      <td>1</td>\n",
       "    </tr>\n",
       "    <tr>\n",
       "      <th>1629</th>\n",
       "      <td>4408800</td>\n",
       "      <td>1</td>\n",
       "    </tr>\n",
       "    <tr>\n",
       "      <th>1630</th>\n",
       "      <td>7130300</td>\n",
       "      <td>1</td>\n",
       "    </tr>\n",
       "    <tr>\n",
       "      <th>1631</th>\n",
       "      <td>7374800</td>\n",
       "      <td>1</td>\n",
       "    </tr>\n",
       "    <tr>\n",
       "      <th>1632</th>\n",
       "      <td>50000000</td>\n",
       "      <td>1</td>\n",
       "    </tr>\n",
       "  </tbody>\n",
       "</table>\n",
       "<p>1633 rows × 2 columns</p>\n",
       "</div>"
      ],
      "text/plain": [
       "      dti_bucket    count\n",
       "0            100  1664035\n",
       "1            200   123137\n",
       "2            300    78550\n",
       "3            400    50450\n",
       "4            500    32406\n",
       "...          ...      ...\n",
       "1628     3974400        1\n",
       "1629     4408800        1\n",
       "1630     7130300        1\n",
       "1631     7374800        1\n",
       "1632    50000000        1\n",
       "\n",
       "[1633 rows x 2 columns]"
      ]
     },
     "execution_count": 21,
     "metadata": {},
     "output_type": "execute_result"
    }
   ],
   "source": [
    "# DTI outlier distribution\n",
    "\n",
    "combined_df.withColumn('dti_bucket', floor(col('dti') / 100) * 100) \\\n",
    "           .groupBy('dti_bucket') \\\n",
    "           .count() \\\n",
    "           .filter(col('dti_bucket') >= 100) \\\n",
    "           .orderBy('dti_bucket').toPandas()"
   ]
  },
  {
   "cell_type": "code",
   "execution_count": 22,
   "id": "a6854494",
   "metadata": {
    "execution": {
     "iopub.execute_input": "2025-05-12T20:56:45.619784Z",
     "iopub.status.busy": "2025-05-12T20:56:45.618631Z",
     "iopub.status.idle": "2025-05-12T20:58:26.454867Z",
     "shell.execute_reply": "2025-05-12T20:58:26.453599Z"
    },
    "papermill": {
     "duration": 100.860751,
     "end_time": "2025-05-12T20:58:26.463963",
     "exception": false,
     "start_time": "2025-05-12T20:56:45.603212",
     "status": "completed"
    },
    "tags": []
   },
   "outputs": [
    {
     "data": {
      "text/html": [
       "<div>\n",
       "<style scoped>\n",
       "    .dataframe tbody tr th:only-of-type {\n",
       "        vertical-align: middle;\n",
       "    }\n",
       "\n",
       "    .dataframe tbody tr th {\n",
       "        vertical-align: top;\n",
       "    }\n",
       "\n",
       "    .dataframe thead th {\n",
       "        text-align: right;\n",
       "    }\n",
       "</style>\n",
       "<table border=\"1\" class=\"dataframe\">\n",
       "  <thead>\n",
       "    <tr style=\"text-align: right;\">\n",
       "      <th></th>\n",
       "      <th>summary</th>\n",
       "      <th>dti</th>\n",
       "    </tr>\n",
       "  </thead>\n",
       "  <tbody>\n",
       "    <tr>\n",
       "      <th>0</th>\n",
       "      <td>count</td>\n",
       "      <td>27894101</td>\n",
       "    </tr>\n",
       "    <tr>\n",
       "      <th>1</th>\n",
       "      <td>mean</td>\n",
       "      <td>25.930588497524862</td>\n",
       "    </tr>\n",
       "    <tr>\n",
       "      <th>2</th>\n",
       "      <td>stddev</td>\n",
       "      <td>23.81351897625889</td>\n",
       "    </tr>\n",
       "    <tr>\n",
       "      <th>3</th>\n",
       "      <td>min</td>\n",
       "      <td>0.0</td>\n",
       "    </tr>\n",
       "    <tr>\n",
       "      <th>4</th>\n",
       "      <td>max</td>\n",
       "      <td>100.0</td>\n",
       "    </tr>\n",
       "  </tbody>\n",
       "</table>\n",
       "</div>"
      ],
      "text/plain": [
       "  summary                 dti\n",
       "0   count            27894101\n",
       "1    mean  25.930588497524862\n",
       "2  stddev   23.81351897625889\n",
       "3     min                 0.0\n",
       "4     max               100.0"
      ]
     },
     "execution_count": 22,
     "metadata": {},
     "output_type": "execute_result"
    }
   ],
   "source": [
    "# Descriptive stats after excluding DTI Outliers\n",
    "\n",
    "combined_df.filter((col('dti') >= 0) & (col('dti') <= 100)).select('dti').describe().toPandas()"
   ]
  },
  {
   "cell_type": "markdown",
   "id": "398011bb",
   "metadata": {
    "papermill": {
     "duration": 0.007691,
     "end_time": "2025-05-12T20:58:26.479465",
     "exception": false,
     "start_time": "2025-05-12T20:58:26.471774",
     "status": "completed"
    },
    "tags": []
   },
   "source": [
    "### 3. Check for policy_code values"
   ]
  },
  {
   "cell_type": "code",
   "execution_count": 23,
   "id": "41c61047",
   "metadata": {
    "execution": {
     "iopub.execute_input": "2025-05-12T20:58:26.497261Z",
     "iopub.status.busy": "2025-05-12T20:58:26.496907Z",
     "iopub.status.idle": "2025-05-12T20:59:25.504888Z",
     "shell.execute_reply": "2025-05-12T20:59:25.503899Z"
    },
    "papermill": {
     "duration": 59.027519,
     "end_time": "2025-05-12T20:59:25.514959",
     "exception": false,
     "start_time": "2025-05-12T20:58:26.487440",
     "status": "completed"
    },
    "tags": []
   },
   "outputs": [
    {
     "data": {
      "text/html": [
       "<div>\n",
       "<style scoped>\n",
       "    .dataframe tbody tr th:only-of-type {\n",
       "        vertical-align: middle;\n",
       "    }\n",
       "\n",
       "    .dataframe tbody tr th {\n",
       "        vertical-align: top;\n",
       "    }\n",
       "\n",
       "    .dataframe thead th {\n",
       "        text-align: right;\n",
       "    }\n",
       "</style>\n",
       "<table border=\"1\" class=\"dataframe\">\n",
       "  <thead>\n",
       "    <tr style=\"text-align: right;\">\n",
       "      <th></th>\n",
       "      <th>policy_code</th>\n",
       "      <th>accepted_flag</th>\n",
       "      <th>count</th>\n",
       "    </tr>\n",
       "  </thead>\n",
       "  <tbody>\n",
       "    <tr>\n",
       "      <th>0</th>\n",
       "      <td>0.0</td>\n",
       "      <td>0</td>\n",
       "      <td>27559694</td>\n",
       "    </tr>\n",
       "    <tr>\n",
       "      <th>1</th>\n",
       "      <td>1.0</td>\n",
       "      <td>1</td>\n",
       "      <td>2258957</td>\n",
       "    </tr>\n",
       "    <tr>\n",
       "      <th>2</th>\n",
       "      <td>2.0</td>\n",
       "      <td>0</td>\n",
       "      <td>88129</td>\n",
       "    </tr>\n",
       "    <tr>\n",
       "      <th>3</th>\n",
       "      <td>unknown</td>\n",
       "      <td>0</td>\n",
       "      <td>918</td>\n",
       "    </tr>\n",
       "  </tbody>\n",
       "</table>\n",
       "</div>"
      ],
      "text/plain": [
       "  policy_code  accepted_flag     count\n",
       "0         0.0              0  27559694\n",
       "1         1.0              1   2258957\n",
       "2         2.0              0     88129\n",
       "3     unknown              0       918"
      ]
     },
     "execution_count": 23,
     "metadata": {},
     "output_type": "execute_result"
    }
   ],
   "source": [
    "# 'policy_code' distribution across Accepted and Rejected loans \n",
    "\n",
    "combined_df.groupBy(\"policy_code\", \"accepted_flag\").count().orderBy(\"policy_code\", \"accepted_flag\").toPandas()"
   ]
  }
 ],
 "metadata": {
  "kaggle": {
   "accelerator": "none",
   "dataSources": [
    {
     "datasetId": 902,
     "sourceId": 370089,
     "sourceType": "datasetVersion"
    }
   ],
   "dockerImageVersionId": 31012,
   "isGpuEnabled": false,
   "isInternetEnabled": true,
   "language": "python",
   "sourceType": "notebook"
  },
  "kernelspec": {
   "display_name": "Python 3",
   "language": "python",
   "name": "python3"
  },
  "language_info": {
   "codemirror_mode": {
    "name": "ipython",
    "version": 3
   },
   "file_extension": ".py",
   "mimetype": "text/x-python",
   "name": "python",
   "nbconvert_exporter": "python",
   "pygments_lexer": "ipython3",
   "version": "3.11.11"
  },
  "papermill": {
   "default_parameters": {},
   "duration": 2893.235565,
   "end_time": "2025-05-12T20:59:28.153293",
   "environment_variables": {},
   "exception": null,
   "input_path": "__notebook__.ipynb",
   "output_path": "__notebook__.ipynb",
   "parameters": {},
   "start_time": "2025-05-12T20:11:14.917728",
   "version": "2.6.0"
  }
 },
 "nbformat": 4,
 "nbformat_minor": 5
}
