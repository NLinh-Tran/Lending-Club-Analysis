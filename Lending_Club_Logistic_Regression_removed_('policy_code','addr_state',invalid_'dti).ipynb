{
  "metadata": {
    "kernelspec": {
      "language": "python",
      "display_name": "Python 3",
      "name": "python3"
    },
    "language_info": {
      "name": "python",
      "version": "3.11.11",
      "mimetype": "text/x-python",
      "codemirror_mode": {
        "name": "ipython",
        "version": 3
      },
      "pygments_lexer": "ipython3",
      "nbconvert_exporter": "python",
      "file_extension": ".py"
    },
    "kaggle": {
      "accelerator": "none",
      "dataSources": [
        {
          "sourceId": 370089,
          "sourceType": "datasetVersion",
          "datasetId": 902
        }
      ],
      "dockerImageVersionId": 31012,
      "isInternetEnabled": true,
      "language": "python",
      "sourceType": "notebook",
      "isGpuEnabled": false
    },
    "colab": {
      "provenance": [],
      "collapsed_sections": [
        "o-2KI6i-gdXi",
        "0_-XpZOUgdXi",
        "Qd0BawH8gdXi",
        "GWKcKuBPqELx"
      ],
      "include_colab_link": true
    }
  },
  "nbformat_minor": 0,
  "nbformat": 4,
  "cells": [
    {
      "cell_type": "markdown",
      "metadata": {
        "id": "view-in-github",
        "colab_type": "text"
      },
      "source": [
        "<a href=\"https://colab.research.google.com/github/NLinh-Tran/Lending-Club-Analysis/blob/main/Lending_Club_Logistic_Regression_removed_('policy_code'%2C'addr_state'%2Cinvalid_'dti).ipynb\" target=\"_parent\"><img src=\"https://colab.research.google.com/assets/colab-badge.svg\" alt=\"Open In Colab\"/></a>"
      ]
    },
    {
      "source": [
        "# IMPORTANT: RUN THIS CELL IN ORDER TO IMPORT YOUR KAGGLE DATA SOURCES,\n",
        "# THEN FEEL FREE TO DELETE THIS CELL.\n",
        "# NOTE: THIS NOTEBOOK ENVIRONMENT DIFFERS FROM KAGGLE'S PYTHON\n",
        "# ENVIRONMENT SO THERE MAY BE MISSING LIBRARIES USED BY YOUR\n",
        "# NOTEBOOK.\n",
        "import kagglehub\n",
        "wordsforthewise_lending_club_path = kagglehub.dataset_download('wordsforthewise/lending-club')\n",
        "\n",
        "print('Data source import complete.')\n"
      ],
      "metadata": {
        "id": "npAvm0mAgdXd",
        "outputId": "ef45c0b3-1341-4237-8b48-6504bba2f99b",
        "colab": {
          "base_uri": "https://localhost:8080/"
        }
      },
      "cell_type": "code",
      "outputs": [
        {
          "output_type": "stream",
          "name": "stdout",
          "text": [
            "Data source import complete.\n"
          ]
        }
      ],
      "execution_count": 1
    },
    {
      "cell_type": "code",
      "source": [
        "import numpy as np\n",
        "import pandas as pd\n",
        "import os\n",
        "for dirname, _, filenames in os.walk('/kaggle/input'):\n",
        "    for filename in filenames:\n",
        "        print(os.path.join(dirname, filename))"
      ],
      "metadata": {
        "_uuid": "8f2839f25d086af736a60e9eeb907d3b93b6e0e5",
        "_cell_guid": "b1076dfc-b9ad-4769-8c92-a6c4dae69d19",
        "trusted": true,
        "execution": {
          "iopub.status.busy": "2025-05-12T14:37:49.674688Z",
          "iopub.execute_input": "2025-05-12T14:37:49.675101Z",
          "iopub.status.idle": "2025-05-12T14:37:50.060968Z",
          "shell.execute_reply.started": "2025-05-12T14:37:49.675073Z",
          "shell.execute_reply": "2025-05-12T14:37:50.059773Z"
        },
        "collapsed": true,
        "jupyter": {
          "outputs_hidden": true
        },
        "id": "QQu5h6fBgdXe",
        "outputId": "f81445a2-b840-4815-d9b1-2df724411844",
        "colab": {
          "base_uri": "https://localhost:8080/"
        }
      },
      "outputs": [
        {
          "output_type": "stream",
          "name": "stdout",
          "text": [
            "/kaggle/input/lending-club/rejected_2007_to_2018Q4.csv.gz\n",
            "/kaggle/input/lending-club/accepted_2007_to_2018Q4.csv.gz\n",
            "/kaggle/input/lending-club/accepted_2007_to_2018q4.csv/accepted_2007_to_2018Q4.csv\n",
            "/kaggle/input/lending-club/rejected_2007_to_2018q4.csv/rejected_2007_to_2018Q4.csv\n"
          ]
        }
      ],
      "execution_count": 2
    },
    {
      "cell_type": "markdown",
      "source": [
        "# Install PySpark"
      ],
      "metadata": {
        "id": "y7DdmVCCgdXe"
      }
    },
    {
      "cell_type": "code",
      "source": [
        "!pip install PySpark"
      ],
      "metadata": {
        "trusted": true,
        "execution": {
          "iopub.status.busy": "2025-05-12T14:37:54.361594Z",
          "iopub.execute_input": "2025-05-12T14:37:54.362743Z",
          "iopub.status.idle": "2025-05-12T14:37:59.173982Z",
          "shell.execute_reply.started": "2025-05-12T14:37:54.36269Z",
          "shell.execute_reply": "2025-05-12T14:37:59.172666Z"
        },
        "collapsed": true,
        "jupyter": {
          "outputs_hidden": true
        },
        "id": "A6hYXuQjgdXf",
        "outputId": "51998457-ce17-47ba-f737-fa7889acd6ad",
        "colab": {
          "base_uri": "https://localhost:8080/"
        }
      },
      "outputs": [
        {
          "output_type": "stream",
          "name": "stdout",
          "text": [
            "Requirement already satisfied: PySpark in /usr/local/lib/python3.11/dist-packages (3.5.1)\n",
            "Requirement already satisfied: py4j==0.10.9.7 in /usr/local/lib/python3.11/dist-packages (from PySpark) (0.10.9.7)\n"
          ]
        }
      ],
      "execution_count": 3
    },
    {
      "cell_type": "code",
      "source": [
        "from pyspark.sql import SparkSession\n",
        "from pyspark.sql.functions import *\n",
        "import logging\n",
        "import sys\n",
        "import os\n",
        "\n",
        "print('Import Libraries')"
      ],
      "metadata": {
        "trusted": true,
        "execution": {
          "iopub.status.busy": "2025-05-12T14:38:02.131032Z",
          "iopub.execute_input": "2025-05-12T14:38:02.131374Z",
          "iopub.status.idle": "2025-05-12T14:38:02.138165Z",
          "shell.execute_reply.started": "2025-05-12T14:38:02.131352Z",
          "shell.execute_reply": "2025-05-12T14:38:02.136743Z"
        },
        "id": "DrnRpVlrgdXf",
        "outputId": "41bddab4-43b7-4203-ee9b-f9add06d8305",
        "colab": {
          "base_uri": "https://localhost:8080/"
        }
      },
      "outputs": [
        {
          "output_type": "stream",
          "name": "stdout",
          "text": [
            "Import Libraries\n"
          ]
        }
      ],
      "execution_count": 4
    },
    {
      "cell_type": "code",
      "source": [
        "spark = SparkSession.builder                                        \\\n",
        "                    .appName(\"LendingClubAnalysis\")                 \\\n",
        "                    .config(\"spark.ui.showConsoleProgress\",\"false\") \\\n",
        "                    .getOrCreate()\n",
        "\n",
        "spark.sparkContext.setLogLevel(\"ERROR\")"
      ],
      "metadata": {
        "trusted": true,
        "execution": {
          "iopub.status.busy": "2025-05-12T14:38:04.175305Z",
          "iopub.execute_input": "2025-05-12T14:38:04.175943Z",
          "iopub.status.idle": "2025-05-12T14:38:12.34165Z",
          "shell.execute_reply.started": "2025-05-12T14:38:04.175893Z",
          "shell.execute_reply": "2025-05-12T14:38:12.340503Z"
        },
        "collapsed": true,
        "jupyter": {
          "outputs_hidden": true
        },
        "id": "6gkWhYoKgdXf"
      },
      "outputs": [],
      "execution_count": 5
    },
    {
      "cell_type": "code",
      "source": [
        "accepted_df = spark.read.option(\"header\", True)                                             \\\n",
        "                        .option(\"inferSchema\", True)                                        \\\n",
        "                        .option(\"multiLine\", True)                                          \\\n",
        "                        .option(\"escape\", '\"')                                              \\\n",
        "                        .csv(\"/kaggle/input/lending-club/accepted_2007_to_2018Q4.csv.gz\")\n",
        "\n",
        "rejected_df = spark.read.option(\"header\", True)                                            \\\n",
        "                        .option(\"inferSchema\", True)                                        \\\n",
        "                        .option(\"multiLine\", True)                                          \\\n",
        "                        .option(\"escape\", '\"')                                              \\\n",
        "                        .csv(\"/kaggle/input/lending-club/rejected_2007_to_2018Q4.csv.gz\")"
      ],
      "metadata": {
        "trusted": true,
        "execution": {
          "iopub.status.busy": "2025-05-12T15:50:37.764018Z",
          "iopub.execute_input": "2025-05-12T15:50:37.76443Z",
          "iopub.status.idle": "2025-05-12T15:52:27.402045Z",
          "shell.execute_reply.started": "2025-05-12T15:50:37.764404Z",
          "shell.execute_reply": "2025-05-12T15:52:27.401078Z"
        },
        "id": "cp_qsikUgdXf"
      },
      "outputs": [],
      "execution_count": 6
    },
    {
      "cell_type": "markdown",
      "source": [
        "# Combined Dataset\n",
        "* loan_amnt\n",
        "* emp_length\n",
        "* dti - **0<= dti <= 100**\n",
        "* addr_state - **REMOVED**\n",
        "* policy_code - **REMOVED**\n",
        "* accepted_flag"
      ],
      "metadata": {
        "id": "O4TCO3jGgdXg"
      }
    },
    {
      "cell_type": "code",
      "source": [
        "# Accpeted\n",
        "accepted_c = accepted_df.withColumn('accepted_flag', lit(1)) \\\n",
        "                         .select('loan_amnt', 'emp_length', 'dti', 'accepted_flag')\n",
        "\n",
        "# Rejected\n",
        "rejected_c = rejected_df.withColumnRenamed('Amount Requested', 'loan_amnt') \\\n",
        "                         .withColumnRenamed('Employment Length', 'emp_length') \\\n",
        "                         .withColumn('dti', regexp_replace(col('Debt-To-Income Ratio'), '%', '').cast('double')) \\\n",
        "                         .withColumn('accepted_flag', lit(0)) \\\n",
        "                         .select('loan_amnt', 'emp_length', 'dti', 'accepted_flag')"
      ],
      "metadata": {
        "trusted": true,
        "execution": {
          "iopub.status.busy": "2025-05-12T15:52:27.40355Z",
          "iopub.execute_input": "2025-05-12T15:52:27.40384Z",
          "iopub.status.idle": "2025-05-12T15:52:27.515651Z",
          "shell.execute_reply.started": "2025-05-12T15:52:27.403819Z",
          "shell.execute_reply": "2025-05-12T15:52:27.514286Z"
        },
        "id": "6bjg040pgdXg"
      },
      "outputs": [],
      "execution_count": 7
    },
    {
      "cell_type": "code",
      "source": [
        "# Combine 2 datsets\n",
        "combined_df = accepted_c.union(rejected_c)\n",
        "\n",
        "combined_df = combined_df.withColumn('emp_length_years',\n",
        "                                      when(col('emp_length') == '< 1 year', 0)\n",
        "                                      .when(col('emp_length') == '1 year', 1)\n",
        "                                      .when(col('emp_length') == '2 years', 2)\n",
        "                                      .when(col('emp_length') == '3 years', 3)\n",
        "                                      .when(col('emp_length') == '4 years', 4)\n",
        "                                      .when(col('emp_length') == '5 years', 5)\n",
        "                                      .when(col('emp_length') == '6 years', 6)\n",
        "                                      .when(col('emp_length') == '7 years', 7)\n",
        "                                      .when(col('emp_length') == '8 years', 8)\n",
        "                                      .when(col('emp_length') == '9 years', 9)\n",
        "                                      .when(col('emp_length') == '10+ years', 10)\n",
        "                                      .when(col('emp_length').isNull(), -1)\n",
        "                                      .otherwise(-1)) \\\n",
        "                          .filter((col('dti') >= 0) & (col('dti') <= 100))\n",
        "\n",
        "combined_df = combined_df.drop('emp_length')"
      ],
      "metadata": {
        "trusted": true,
        "execution": {
          "iopub.status.busy": "2025-05-12T17:26:59.344575Z",
          "iopub.execute_input": "2025-05-12T17:26:59.345641Z",
          "iopub.status.idle": "2025-05-12T17:26:59.413061Z",
          "shell.execute_reply.started": "2025-05-12T17:26:59.345608Z",
          "shell.execute_reply": "2025-05-12T17:26:59.412049Z"
        },
        "id": "iDtLfNB4gdXg"
      },
      "outputs": [],
      "execution_count": 8
    },
    {
      "cell_type": "code",
      "source": [
        "from pyspark.sql.functions import col, sum as spark_sum\n",
        "combined_df.select([\n",
        "    spark_sum(col(c).isNull().cast(\"int\")).alias(c)\n",
        "    for c in combined_df.columns\n",
        "]).toPandas()"
      ],
      "metadata": {
        "colab": {
          "base_uri": "https://localhost:8080/",
          "height": 81
        },
        "id": "ME4w-vSyq7N2",
        "outputId": "9d33d579-47cf-4738-c6e4-f3072a4dc3d8"
      },
      "execution_count": 10,
      "outputs": [
        {
          "output_type": "execute_result",
          "data": {
            "text/plain": [
              "   loan_amnt  dti  accepted_flag  emp_length_years\n",
              "0          0    0              0                 0"
            ],
            "text/html": [
              "\n",
              "  <div id=\"df-d5be8f18-ca33-4126-81dc-2ee46d0d9273\" class=\"colab-df-container\">\n",
              "    <div>\n",
              "<style scoped>\n",
              "    .dataframe tbody tr th:only-of-type {\n",
              "        vertical-align: middle;\n",
              "    }\n",
              "\n",
              "    .dataframe tbody tr th {\n",
              "        vertical-align: top;\n",
              "    }\n",
              "\n",
              "    .dataframe thead th {\n",
              "        text-align: right;\n",
              "    }\n",
              "</style>\n",
              "<table border=\"1\" class=\"dataframe\">\n",
              "  <thead>\n",
              "    <tr style=\"text-align: right;\">\n",
              "      <th></th>\n",
              "      <th>loan_amnt</th>\n",
              "      <th>dti</th>\n",
              "      <th>accepted_flag</th>\n",
              "      <th>emp_length_years</th>\n",
              "    </tr>\n",
              "  </thead>\n",
              "  <tbody>\n",
              "    <tr>\n",
              "      <th>0</th>\n",
              "      <td>0</td>\n",
              "      <td>0</td>\n",
              "      <td>0</td>\n",
              "      <td>0</td>\n",
              "    </tr>\n",
              "  </tbody>\n",
              "</table>\n",
              "</div>\n",
              "    <div class=\"colab-df-buttons\">\n",
              "\n",
              "  <div class=\"colab-df-container\">\n",
              "    <button class=\"colab-df-convert\" onclick=\"convertToInteractive('df-d5be8f18-ca33-4126-81dc-2ee46d0d9273')\"\n",
              "            title=\"Convert this dataframe to an interactive table.\"\n",
              "            style=\"display:none;\">\n",
              "\n",
              "  <svg xmlns=\"http://www.w3.org/2000/svg\" height=\"24px\" viewBox=\"0 -960 960 960\">\n",
              "    <path d=\"M120-120v-720h720v720H120Zm60-500h600v-160H180v160Zm220 220h160v-160H400v160Zm0 220h160v-160H400v160ZM180-400h160v-160H180v160Zm440 0h160v-160H620v160ZM180-180h160v-160H180v160Zm440 0h160v-160H620v160Z\"/>\n",
              "  </svg>\n",
              "    </button>\n",
              "\n",
              "  <style>\n",
              "    .colab-df-container {\n",
              "      display:flex;\n",
              "      gap: 12px;\n",
              "    }\n",
              "\n",
              "    .colab-df-convert {\n",
              "      background-color: #E8F0FE;\n",
              "      border: none;\n",
              "      border-radius: 50%;\n",
              "      cursor: pointer;\n",
              "      display: none;\n",
              "      fill: #1967D2;\n",
              "      height: 32px;\n",
              "      padding: 0 0 0 0;\n",
              "      width: 32px;\n",
              "    }\n",
              "\n",
              "    .colab-df-convert:hover {\n",
              "      background-color: #E2EBFA;\n",
              "      box-shadow: 0px 1px 2px rgba(60, 64, 67, 0.3), 0px 1px 3px 1px rgba(60, 64, 67, 0.15);\n",
              "      fill: #174EA6;\n",
              "    }\n",
              "\n",
              "    .colab-df-buttons div {\n",
              "      margin-bottom: 4px;\n",
              "    }\n",
              "\n",
              "    [theme=dark] .colab-df-convert {\n",
              "      background-color: #3B4455;\n",
              "      fill: #D2E3FC;\n",
              "    }\n",
              "\n",
              "    [theme=dark] .colab-df-convert:hover {\n",
              "      background-color: #434B5C;\n",
              "      box-shadow: 0px 1px 3px 1px rgba(0, 0, 0, 0.15);\n",
              "      filter: drop-shadow(0px 1px 2px rgba(0, 0, 0, 0.3));\n",
              "      fill: #FFFFFF;\n",
              "    }\n",
              "  </style>\n",
              "\n",
              "    <script>\n",
              "      const buttonEl =\n",
              "        document.querySelector('#df-d5be8f18-ca33-4126-81dc-2ee46d0d9273 button.colab-df-convert');\n",
              "      buttonEl.style.display =\n",
              "        google.colab.kernel.accessAllowed ? 'block' : 'none';\n",
              "\n",
              "      async function convertToInteractive(key) {\n",
              "        const element = document.querySelector('#df-d5be8f18-ca33-4126-81dc-2ee46d0d9273');\n",
              "        const dataTable =\n",
              "          await google.colab.kernel.invokeFunction('convertToInteractive',\n",
              "                                                    [key], {});\n",
              "        if (!dataTable) return;\n",
              "\n",
              "        const docLinkHtml = 'Like what you see? Visit the ' +\n",
              "          '<a target=\"_blank\" href=https://colab.research.google.com/notebooks/data_table.ipynb>data table notebook</a>'\n",
              "          + ' to learn more about interactive tables.';\n",
              "        element.innerHTML = '';\n",
              "        dataTable['output_type'] = 'display_data';\n",
              "        await google.colab.output.renderOutput(dataTable, element);\n",
              "        const docLink = document.createElement('div');\n",
              "        docLink.innerHTML = docLinkHtml;\n",
              "        element.appendChild(docLink);\n",
              "      }\n",
              "    </script>\n",
              "  </div>\n",
              "\n",
              "\n",
              "    </div>\n",
              "  </div>\n"
            ],
            "application/vnd.google.colaboratory.intrinsic+json": {
              "type": "dataframe",
              "summary": "{\n  \"name\": \"])\",\n  \"rows\": 1,\n  \"fields\": [\n    {\n      \"column\": \"loan_amnt\",\n      \"properties\": {\n        \"dtype\": \"number\",\n        \"std\": null,\n        \"min\": 0,\n        \"max\": 0,\n        \"num_unique_values\": 1,\n        \"samples\": [\n          0\n        ],\n        \"semantic_type\": \"\",\n        \"description\": \"\"\n      }\n    },\n    {\n      \"column\": \"dti\",\n      \"properties\": {\n        \"dtype\": \"number\",\n        \"std\": null,\n        \"min\": 0,\n        \"max\": 0,\n        \"num_unique_values\": 1,\n        \"samples\": [\n          0\n        ],\n        \"semantic_type\": \"\",\n        \"description\": \"\"\n      }\n    },\n    {\n      \"column\": \"accepted_flag\",\n      \"properties\": {\n        \"dtype\": \"number\",\n        \"std\": null,\n        \"min\": 0,\n        \"max\": 0,\n        \"num_unique_values\": 1,\n        \"samples\": [\n          0\n        ],\n        \"semantic_type\": \"\",\n        \"description\": \"\"\n      }\n    },\n    {\n      \"column\": \"emp_length_years\",\n      \"properties\": {\n        \"dtype\": \"number\",\n        \"std\": null,\n        \"min\": 0,\n        \"max\": 0,\n        \"num_unique_values\": 1,\n        \"samples\": [\n          0\n        ],\n        \"semantic_type\": \"\",\n        \"description\": \"\"\n      }\n    }\n  ]\n}"
            }
          },
          "metadata": {},
          "execution_count": 10
        }
      ]
    },
    {
      "cell_type": "code",
      "source": [
        "combined_df.count()"
      ],
      "metadata": {
        "colab": {
          "base_uri": "https://localhost:8080/"
        },
        "id": "olmQT0NQqlSr",
        "outputId": "37bbacec-4abb-40a1-b770-04a4ece80dab"
      },
      "execution_count": 9,
      "outputs": [
        {
          "output_type": "execute_result",
          "data": {
            "text/plain": [
              "27894101"
            ]
          },
          "metadata": {},
          "execution_count": 9
        }
      ]
    },
    {
      "cell_type": "markdown",
      "source": [
        "# Assemble Features\n",
        "\n",
        "* features: contains a single vector of all features per row\n",
        "* label: the outcome trying to predict"
      ],
      "metadata": {
        "id": "HMCprZwdgdXh"
      }
    },
    {
      "cell_type": "code",
      "source": [
        "from pyspark.ml.feature import VectorAssembler\n",
        "\n",
        "feature_cols = [\"loan_amnt\", \"dti\", \"emp_length_years\"]\n",
        "assembler = VectorAssembler(inputCols=feature_cols, outputCol=\"features\")"
      ],
      "metadata": {
        "trusted": true,
        "execution": {
          "iopub.status.busy": "2025-05-12T15:55:02.090264Z",
          "iopub.execute_input": "2025-05-12T15:55:02.090552Z",
          "iopub.status.idle": "2025-05-12T15:55:02.099872Z",
          "shell.execute_reply.started": "2025-05-12T15:55:02.090526Z",
          "shell.execute_reply": "2025-05-12T15:55:02.099Z"
        },
        "id": "qMTHIYOFgdXh"
      },
      "outputs": [],
      "execution_count": 16
    },
    {
      "cell_type": "markdown",
      "source": [
        "# Split into Train and Test Sets (80:20)\n",
        "with random_state(seed) = 42"
      ],
      "metadata": {
        "id": "1z87vh-DgdXh"
      }
    },
    {
      "cell_type": "code",
      "source": [
        "train_df, test_df = combined_df.randomSplit([0.8, 0.2], seed=42)"
      ],
      "metadata": {
        "trusted": true,
        "execution": {
          "iopub.status.busy": "2025-05-12T15:55:02.10105Z",
          "iopub.execute_input": "2025-05-12T15:55:02.101363Z",
          "iopub.status.idle": "2025-05-12T15:55:02.13281Z",
          "shell.execute_reply.started": "2025-05-12T15:55:02.101337Z",
          "shell.execute_reply": "2025-05-12T15:55:02.13203Z"
        },
        "id": "l5_ZA6xQgdXh"
      },
      "outputs": [],
      "execution_count": 21
    },
    {
      "cell_type": "markdown",
      "source": [
        "## Train the Logistic Regression Model"
      ],
      "metadata": {
        "id": "FdayK_uQgdXi"
      }
    },
    {
      "cell_type": "code",
      "source": [
        "from pyspark.ml.classification import LogisticRegression\n",
        "\n",
        "# Transform both sets so they contain 'features'\n",
        "train_assembled = assembler.transform(train_df)\n",
        "test_assembled = assembler.transform(test_df)\n",
        "\n",
        "# Train the model\n",
        "lr = LogisticRegression(featuresCol=\"features\", labelCol=\"accepted_flag\")\n",
        "model = lr.fit(train_assembled)"
      ],
      "metadata": {
        "trusted": true,
        "execution": {
          "iopub.status.busy": "2025-05-12T15:56:47.784153Z",
          "iopub.execute_input": "2025-05-12T15:56:47.784419Z",
          "iopub.status.idle": "2025-05-12T16:15:32.960738Z",
          "shell.execute_reply.started": "2025-05-12T15:56:47.784399Z",
          "shell.execute_reply": "2025-05-12T16:15:32.959787Z"
        },
        "id": "AQF6vDDHgdXi"
      },
      "outputs": [],
      "execution_count": 23
    },
    {
      "cell_type": "markdown",
      "source": [
        "# Coefficients"
      ],
      "metadata": {
        "id": "T-uiq1vL0ENE"
      }
    },
    {
      "cell_type": "code",
      "source": [
        "coeffs = model.coefficients.toArray()\n",
        "for feature, coef in zip(feature_cols, coeffs):\n",
        "    print(f\"{feature}: {coef}\")"
      ],
      "metadata": {
        "colab": {
          "base_uri": "https://localhost:8080/"
        },
        "id": "-WIQ62z50Gl3",
        "outputId": "97e07dc5-e11d-4a1c-ef69-16309d948fd2"
      },
      "execution_count": 24,
      "outputs": [
        {
          "output_type": "stream",
          "name": "stdout",
          "text": [
            "loan_amnt: 1.9387059482964418e-05\n",
            "dti: -0.017948761490472177\n",
            "emp_length_years: 0.4164047813227267\n"
          ]
        }
      ]
    },
    {
      "cell_type": "code",
      "source": [
        "coef_df = pd.DataFrame({\n",
        "    \"feature\": feature_cols,\n",
        "    \"coefficient\": coeffs\n",
        "})\n",
        "coef_df[\"abs_coefficient\"] = np.abs(coef_df[\"coefficient\"])\n",
        "coef_df_sorted = coef_df.sort_values(\"abs_coefficient\", ascending=False)\n",
        "coef_df_sorted"
      ],
      "metadata": {
        "colab": {
          "base_uri": "https://localhost:8080/",
          "height": 144
        },
        "id": "4yD5nqza5Dub",
        "outputId": "ef8186e9-211b-4f84-e9fd-898cdd1d5ffc"
      },
      "execution_count": 29,
      "outputs": [
        {
          "output_type": "execute_result",
          "data": {
            "text/plain": [
              "            feature  coefficient  abs_coefficient\n",
              "2  emp_length_years     0.416405         0.416405\n",
              "1               dti    -0.017949         0.017949\n",
              "0         loan_amnt     0.000019         0.000019"
            ],
            "text/html": [
              "\n",
              "  <div id=\"df-9107d31d-ff21-4fd8-875f-8d7be1553ce9\" class=\"colab-df-container\">\n",
              "    <div>\n",
              "<style scoped>\n",
              "    .dataframe tbody tr th:only-of-type {\n",
              "        vertical-align: middle;\n",
              "    }\n",
              "\n",
              "    .dataframe tbody tr th {\n",
              "        vertical-align: top;\n",
              "    }\n",
              "\n",
              "    .dataframe thead th {\n",
              "        text-align: right;\n",
              "    }\n",
              "</style>\n",
              "<table border=\"1\" class=\"dataframe\">\n",
              "  <thead>\n",
              "    <tr style=\"text-align: right;\">\n",
              "      <th></th>\n",
              "      <th>feature</th>\n",
              "      <th>coefficient</th>\n",
              "      <th>abs_coefficient</th>\n",
              "    </tr>\n",
              "  </thead>\n",
              "  <tbody>\n",
              "    <tr>\n",
              "      <th>2</th>\n",
              "      <td>emp_length_years</td>\n",
              "      <td>0.416405</td>\n",
              "      <td>0.416405</td>\n",
              "    </tr>\n",
              "    <tr>\n",
              "      <th>1</th>\n",
              "      <td>dti</td>\n",
              "      <td>-0.017949</td>\n",
              "      <td>0.017949</td>\n",
              "    </tr>\n",
              "    <tr>\n",
              "      <th>0</th>\n",
              "      <td>loan_amnt</td>\n",
              "      <td>0.000019</td>\n",
              "      <td>0.000019</td>\n",
              "    </tr>\n",
              "  </tbody>\n",
              "</table>\n",
              "</div>\n",
              "    <div class=\"colab-df-buttons\">\n",
              "\n",
              "  <div class=\"colab-df-container\">\n",
              "    <button class=\"colab-df-convert\" onclick=\"convertToInteractive('df-9107d31d-ff21-4fd8-875f-8d7be1553ce9')\"\n",
              "            title=\"Convert this dataframe to an interactive table.\"\n",
              "            style=\"display:none;\">\n",
              "\n",
              "  <svg xmlns=\"http://www.w3.org/2000/svg\" height=\"24px\" viewBox=\"0 -960 960 960\">\n",
              "    <path d=\"M120-120v-720h720v720H120Zm60-500h600v-160H180v160Zm220 220h160v-160H400v160Zm0 220h160v-160H400v160ZM180-400h160v-160H180v160Zm440 0h160v-160H620v160ZM180-180h160v-160H180v160Zm440 0h160v-160H620v160Z\"/>\n",
              "  </svg>\n",
              "    </button>\n",
              "\n",
              "  <style>\n",
              "    .colab-df-container {\n",
              "      display:flex;\n",
              "      gap: 12px;\n",
              "    }\n",
              "\n",
              "    .colab-df-convert {\n",
              "      background-color: #E8F0FE;\n",
              "      border: none;\n",
              "      border-radius: 50%;\n",
              "      cursor: pointer;\n",
              "      display: none;\n",
              "      fill: #1967D2;\n",
              "      height: 32px;\n",
              "      padding: 0 0 0 0;\n",
              "      width: 32px;\n",
              "    }\n",
              "\n",
              "    .colab-df-convert:hover {\n",
              "      background-color: #E2EBFA;\n",
              "      box-shadow: 0px 1px 2px rgba(60, 64, 67, 0.3), 0px 1px 3px 1px rgba(60, 64, 67, 0.15);\n",
              "      fill: #174EA6;\n",
              "    }\n",
              "\n",
              "    .colab-df-buttons div {\n",
              "      margin-bottom: 4px;\n",
              "    }\n",
              "\n",
              "    [theme=dark] .colab-df-convert {\n",
              "      background-color: #3B4455;\n",
              "      fill: #D2E3FC;\n",
              "    }\n",
              "\n",
              "    [theme=dark] .colab-df-convert:hover {\n",
              "      background-color: #434B5C;\n",
              "      box-shadow: 0px 1px 3px 1px rgba(0, 0, 0, 0.15);\n",
              "      filter: drop-shadow(0px 1px 2px rgba(0, 0, 0, 0.3));\n",
              "      fill: #FFFFFF;\n",
              "    }\n",
              "  </style>\n",
              "\n",
              "    <script>\n",
              "      const buttonEl =\n",
              "        document.querySelector('#df-9107d31d-ff21-4fd8-875f-8d7be1553ce9 button.colab-df-convert');\n",
              "      buttonEl.style.display =\n",
              "        google.colab.kernel.accessAllowed ? 'block' : 'none';\n",
              "\n",
              "      async function convertToInteractive(key) {\n",
              "        const element = document.querySelector('#df-9107d31d-ff21-4fd8-875f-8d7be1553ce9');\n",
              "        const dataTable =\n",
              "          await google.colab.kernel.invokeFunction('convertToInteractive',\n",
              "                                                    [key], {});\n",
              "        if (!dataTable) return;\n",
              "\n",
              "        const docLinkHtml = 'Like what you see? Visit the ' +\n",
              "          '<a target=\"_blank\" href=https://colab.research.google.com/notebooks/data_table.ipynb>data table notebook</a>'\n",
              "          + ' to learn more about interactive tables.';\n",
              "        element.innerHTML = '';\n",
              "        dataTable['output_type'] = 'display_data';\n",
              "        await google.colab.output.renderOutput(dataTable, element);\n",
              "        const docLink = document.createElement('div');\n",
              "        docLink.innerHTML = docLinkHtml;\n",
              "        element.appendChild(docLink);\n",
              "      }\n",
              "    </script>\n",
              "  </div>\n",
              "\n",
              "\n",
              "    <div id=\"df-572bdcbb-e403-4452-be35-7f1920012821\">\n",
              "      <button class=\"colab-df-quickchart\" onclick=\"quickchart('df-572bdcbb-e403-4452-be35-7f1920012821')\"\n",
              "                title=\"Suggest charts\"\n",
              "                style=\"display:none;\">\n",
              "\n",
              "<svg xmlns=\"http://www.w3.org/2000/svg\" height=\"24px\"viewBox=\"0 0 24 24\"\n",
              "     width=\"24px\">\n",
              "    <g>\n",
              "        <path d=\"M19 3H5c-1.1 0-2 .9-2 2v14c0 1.1.9 2 2 2h14c1.1 0 2-.9 2-2V5c0-1.1-.9-2-2-2zM9 17H7v-7h2v7zm4 0h-2V7h2v10zm4 0h-2v-4h2v4z\"/>\n",
              "    </g>\n",
              "</svg>\n",
              "      </button>\n",
              "\n",
              "<style>\n",
              "  .colab-df-quickchart {\n",
              "      --bg-color: #E8F0FE;\n",
              "      --fill-color: #1967D2;\n",
              "      --hover-bg-color: #E2EBFA;\n",
              "      --hover-fill-color: #174EA6;\n",
              "      --disabled-fill-color: #AAA;\n",
              "      --disabled-bg-color: #DDD;\n",
              "  }\n",
              "\n",
              "  [theme=dark] .colab-df-quickchart {\n",
              "      --bg-color: #3B4455;\n",
              "      --fill-color: #D2E3FC;\n",
              "      --hover-bg-color: #434B5C;\n",
              "      --hover-fill-color: #FFFFFF;\n",
              "      --disabled-bg-color: #3B4455;\n",
              "      --disabled-fill-color: #666;\n",
              "  }\n",
              "\n",
              "  .colab-df-quickchart {\n",
              "    background-color: var(--bg-color);\n",
              "    border: none;\n",
              "    border-radius: 50%;\n",
              "    cursor: pointer;\n",
              "    display: none;\n",
              "    fill: var(--fill-color);\n",
              "    height: 32px;\n",
              "    padding: 0;\n",
              "    width: 32px;\n",
              "  }\n",
              "\n",
              "  .colab-df-quickchart:hover {\n",
              "    background-color: var(--hover-bg-color);\n",
              "    box-shadow: 0 1px 2px rgba(60, 64, 67, 0.3), 0 1px 3px 1px rgba(60, 64, 67, 0.15);\n",
              "    fill: var(--button-hover-fill-color);\n",
              "  }\n",
              "\n",
              "  .colab-df-quickchart-complete:disabled,\n",
              "  .colab-df-quickchart-complete:disabled:hover {\n",
              "    background-color: var(--disabled-bg-color);\n",
              "    fill: var(--disabled-fill-color);\n",
              "    box-shadow: none;\n",
              "  }\n",
              "\n",
              "  .colab-df-spinner {\n",
              "    border: 2px solid var(--fill-color);\n",
              "    border-color: transparent;\n",
              "    border-bottom-color: var(--fill-color);\n",
              "    animation:\n",
              "      spin 1s steps(1) infinite;\n",
              "  }\n",
              "\n",
              "  @keyframes spin {\n",
              "    0% {\n",
              "      border-color: transparent;\n",
              "      border-bottom-color: var(--fill-color);\n",
              "      border-left-color: var(--fill-color);\n",
              "    }\n",
              "    20% {\n",
              "      border-color: transparent;\n",
              "      border-left-color: var(--fill-color);\n",
              "      border-top-color: var(--fill-color);\n",
              "    }\n",
              "    30% {\n",
              "      border-color: transparent;\n",
              "      border-left-color: var(--fill-color);\n",
              "      border-top-color: var(--fill-color);\n",
              "      border-right-color: var(--fill-color);\n",
              "    }\n",
              "    40% {\n",
              "      border-color: transparent;\n",
              "      border-right-color: var(--fill-color);\n",
              "      border-top-color: var(--fill-color);\n",
              "    }\n",
              "    60% {\n",
              "      border-color: transparent;\n",
              "      border-right-color: var(--fill-color);\n",
              "    }\n",
              "    80% {\n",
              "      border-color: transparent;\n",
              "      border-right-color: var(--fill-color);\n",
              "      border-bottom-color: var(--fill-color);\n",
              "    }\n",
              "    90% {\n",
              "      border-color: transparent;\n",
              "      border-bottom-color: var(--fill-color);\n",
              "    }\n",
              "  }\n",
              "</style>\n",
              "\n",
              "      <script>\n",
              "        async function quickchart(key) {\n",
              "          const quickchartButtonEl =\n",
              "            document.querySelector('#' + key + ' button');\n",
              "          quickchartButtonEl.disabled = true;  // To prevent multiple clicks.\n",
              "          quickchartButtonEl.classList.add('colab-df-spinner');\n",
              "          try {\n",
              "            const charts = await google.colab.kernel.invokeFunction(\n",
              "                'suggestCharts', [key], {});\n",
              "          } catch (error) {\n",
              "            console.error('Error during call to suggestCharts:', error);\n",
              "          }\n",
              "          quickchartButtonEl.classList.remove('colab-df-spinner');\n",
              "          quickchartButtonEl.classList.add('colab-df-quickchart-complete');\n",
              "        }\n",
              "        (() => {\n",
              "          let quickchartButtonEl =\n",
              "            document.querySelector('#df-572bdcbb-e403-4452-be35-7f1920012821 button');\n",
              "          quickchartButtonEl.style.display =\n",
              "            google.colab.kernel.accessAllowed ? 'block' : 'none';\n",
              "        })();\n",
              "      </script>\n",
              "    </div>\n",
              "\n",
              "  <div id=\"id_a2265fac-e85a-4aca-afd4-92603ea3684f\">\n",
              "    <style>\n",
              "      .colab-df-generate {\n",
              "        background-color: #E8F0FE;\n",
              "        border: none;\n",
              "        border-radius: 50%;\n",
              "        cursor: pointer;\n",
              "        display: none;\n",
              "        fill: #1967D2;\n",
              "        height: 32px;\n",
              "        padding: 0 0 0 0;\n",
              "        width: 32px;\n",
              "      }\n",
              "\n",
              "      .colab-df-generate:hover {\n",
              "        background-color: #E2EBFA;\n",
              "        box-shadow: 0px 1px 2px rgba(60, 64, 67, 0.3), 0px 1px 3px 1px rgba(60, 64, 67, 0.15);\n",
              "        fill: #174EA6;\n",
              "      }\n",
              "\n",
              "      [theme=dark] .colab-df-generate {\n",
              "        background-color: #3B4455;\n",
              "        fill: #D2E3FC;\n",
              "      }\n",
              "\n",
              "      [theme=dark] .colab-df-generate:hover {\n",
              "        background-color: #434B5C;\n",
              "        box-shadow: 0px 1px 3px 1px rgba(0, 0, 0, 0.15);\n",
              "        filter: drop-shadow(0px 1px 2px rgba(0, 0, 0, 0.3));\n",
              "        fill: #FFFFFF;\n",
              "      }\n",
              "    </style>\n",
              "    <button class=\"colab-df-generate\" onclick=\"generateWithVariable('coef_df_sorted')\"\n",
              "            title=\"Generate code using this dataframe.\"\n",
              "            style=\"display:none;\">\n",
              "\n",
              "  <svg xmlns=\"http://www.w3.org/2000/svg\" height=\"24px\"viewBox=\"0 0 24 24\"\n",
              "       width=\"24px\">\n",
              "    <path d=\"M7,19H8.4L18.45,9,17,7.55,7,17.6ZM5,21V16.75L18.45,3.32a2,2,0,0,1,2.83,0l1.4,1.43a1.91,1.91,0,0,1,.58,1.4,1.91,1.91,0,0,1-.58,1.4L9.25,21ZM18.45,9,17,7.55Zm-12,3A5.31,5.31,0,0,0,4.9,8.1,5.31,5.31,0,0,0,1,6.5,5.31,5.31,0,0,0,4.9,4.9,5.31,5.31,0,0,0,6.5,1,5.31,5.31,0,0,0,8.1,4.9,5.31,5.31,0,0,0,12,6.5,5.46,5.46,0,0,0,6.5,12Z\"/>\n",
              "  </svg>\n",
              "    </button>\n",
              "    <script>\n",
              "      (() => {\n",
              "      const buttonEl =\n",
              "        document.querySelector('#id_a2265fac-e85a-4aca-afd4-92603ea3684f button.colab-df-generate');\n",
              "      buttonEl.style.display =\n",
              "        google.colab.kernel.accessAllowed ? 'block' : 'none';\n",
              "\n",
              "      buttonEl.onclick = () => {\n",
              "        google.colab.notebook.generateWithVariable('coef_df_sorted');\n",
              "      }\n",
              "      })();\n",
              "    </script>\n",
              "  </div>\n",
              "\n",
              "    </div>\n",
              "  </div>\n"
            ],
            "application/vnd.google.colaboratory.intrinsic+json": {
              "type": "dataframe",
              "variable_name": "coef_df_sorted",
              "summary": "{\n  \"name\": \"coef_df_sorted\",\n  \"rows\": 3,\n  \"fields\": [\n    {\n      \"column\": \"feature\",\n      \"properties\": {\n        \"dtype\": \"string\",\n        \"num_unique_values\": 3,\n        \"samples\": [\n          \"emp_length_years\",\n          \"dti\",\n          \"loan_amnt\"\n        ],\n        \"semantic_type\": \"\",\n        \"description\": \"\"\n      }\n    },\n    {\n      \"column\": \"coefficient\",\n      \"properties\": {\n        \"dtype\": \"number\",\n        \"std\": 0.24575145000333418,\n        \"min\": -0.017948761490472177,\n        \"max\": 0.4164047813227267,\n        \"num_unique_values\": 3,\n        \"samples\": [\n          0.4164047813227267,\n          -0.017948761490472177,\n          1.9387059482964418e-05\n        ],\n        \"semantic_type\": \"\",\n        \"description\": \"\"\n      }\n    },\n    {\n      \"column\": \"abs_coefficient\",\n      \"properties\": {\n        \"dtype\": \"number\",\n        \"std\": 0.23539522041445018,\n        \"min\": 1.9387059482964418e-05,\n        \"max\": 0.4164047813227267,\n        \"num_unique_values\": 3,\n        \"samples\": [\n          0.4164047813227267,\n          0.017948761490472177,\n          1.9387059482964418e-05\n        ],\n        \"semantic_type\": \"\",\n        \"description\": \"\"\n      }\n    }\n  ]\n}"
            }
          },
          "metadata": {},
          "execution_count": 29
        }
      ]
    },
    {
      "cell_type": "markdown",
      "source": [
        "## Predictions"
      ],
      "metadata": {
        "id": "ZuOyRoUSgdXi"
      }
    },
    {
      "cell_type": "code",
      "source": [
        "predictions = model.transform(test_assembled)\n",
        "predictions.select(\"accepted_flag\", \"prediction\", \"probability\").show(5)"
      ],
      "metadata": {
        "trusted": true,
        "execution": {
          "iopub.status.busy": "2025-05-12T16:21:22.686597Z",
          "iopub.execute_input": "2025-05-12T16:21:22.687499Z",
          "iopub.status.idle": "2025-05-12T16:21:58.188561Z",
          "shell.execute_reply.started": "2025-05-12T16:21:22.687467Z",
          "shell.execute_reply": "2025-05-12T16:21:58.187643Z"
        },
        "id": "FgbLAv-wgdXi",
        "outputId": "59e638b0-9f4d-4cef-8536-f371004540fd",
        "colab": {
          "base_uri": "https://localhost:8080/"
        }
      },
      "outputs": [
        {
          "output_type": "stream",
          "name": "stdout",
          "text": [
            "+-------------+----------+--------------------+\n",
            "|accepted_flag|prediction|         probability|\n",
            "+-------------+----------+--------------------+\n",
            "|            1|       0.0|[0.92701025964443...|\n",
            "|            1|       0.0|[0.97112146829990...|\n",
            "|            1|       0.0|[0.91221500096051...|\n",
            "|            1|       0.0|[0.95799941084349...|\n",
            "|            1|       0.0|[0.97219103103093...|\n",
            "+-------------+----------+--------------------+\n",
            "only showing top 5 rows\n",
            "\n"
          ]
        }
      ],
      "execution_count": 26
    },
    {
      "cell_type": "markdown",
      "source": [
        "## Evaluations"
      ],
      "metadata": {
        "id": "o-2KI6i-gdXi"
      }
    },
    {
      "cell_type": "markdown",
      "source": [
        "### 1. Classification Report & Confusion Matrix"
      ],
      "metadata": {
        "id": "EAqHZgUNgdXi"
      }
    },
    {
      "cell_type": "code",
      "source": [
        "from sklearn.metrics import classification_report, confusion_matrix\n",
        "import seaborn as sns\n",
        "import matplotlib.pyplot as plt\n",
        "\n",
        "# Convert prediction results\n",
        "preds_pd = predictions.select(\"accepted_flag\", \"prediction\").toPandas()\n",
        "print(classification_report(preds_pd[\"accepted_flag\"], preds_pd[\"prediction\"], target_names=[\"Rejected\", \"Accepted\"]))\n",
        "\n",
        "# Visualize Confusion Matrix\n",
        "cm = confusion_matrix(preds_pd[\"accepted_flag\"], preds_pd[\"prediction\"])\n",
        "sns.heatmap(cm, annot=True, fmt='d', cmap=\"Blues\", xticklabels=[\"Rejected\", \"Accepted\"], yticklabels=[\"Rejected\", \"Accepted\"])\n",
        "plt.xlabel(\"Predicted\")\n",
        "plt.ylabel(\"Actual\")\n",
        "plt.title(\"Confusion Matrix\")\n",
        "plt.show()"
      ],
      "metadata": {
        "trusted": true,
        "execution": {
          "iopub.status.busy": "2025-05-12T16:21:58.191373Z",
          "iopub.execute_input": "2025-05-12T16:21:58.192509Z",
          "iopub.status.idle": "2025-05-12T16:26:17.899188Z",
          "shell.execute_reply.started": "2025-05-12T16:21:58.192469Z",
          "shell.execute_reply": "2025-05-12T16:26:17.898087Z"
        },
        "id": "fMYrpkOngdXi",
        "outputId": "aa962c28-60c8-4485-e805-f10975dd9a96",
        "colab": {
          "base_uri": "https://localhost:8080/",
          "height": 628
        }
      },
      "outputs": [
        {
          "output_type": "stream",
          "name": "stdout",
          "text": [
            "              precision    recall  f1-score   support\n",
            "\n",
            "    Rejected       0.95      0.98      0.96   5127930\n",
            "    Accepted       0.65      0.38      0.48    451441\n",
            "\n",
            "    accuracy                           0.93   5579371\n",
            "   macro avg       0.80      0.68      0.72   5579371\n",
            "weighted avg       0.92      0.93      0.93   5579371\n",
            "\n"
          ]
        },
        {
          "output_type": "display_data",
          "data": {
            "text/plain": [
              "<Figure size 640x480 with 2 Axes>"
            ],
            "image/png": "[encoded data removed]"
          },
          "metadata": {}
        }
      ],
      "execution_count": 27
    },
    {
      "cell_type": "markdown",
      "source": [
        "## 2. AUC"
      ],
      "metadata": {
        "id": "0_-XpZOUgdXi"
      }
    },
    {
      "cell_type": "code",
      "source": [
        "from pyspark.ml.evaluation import BinaryClassificationEvaluator\n",
        "\n",
        "evaluator = BinaryClassificationEvaluator(labelCol=\"accepted_flag\")\n",
        "print(\"AUC:\", evaluator.evaluate(predictions))"
      ],
      "metadata": {
        "trusted": true,
        "execution": {
          "iopub.status.busy": "2025-05-12T16:26:17.90021Z",
          "iopub.execute_input": "2025-05-12T16:26:17.900646Z",
          "iopub.status.idle": "2025-05-12T16:30:56.745664Z",
          "shell.execute_reply.started": "2025-05-12T16:26:17.900623Z",
          "shell.execute_reply": "2025-05-12T16:30:56.74466Z"
        },
        "id": "6IApvvRrgdXi",
        "outputId": "690be909-b0a5-41d2-aee0-fc70ed256c6f",
        "colab": {
          "base_uri": "https://localhost:8080/"
        }
      },
      "outputs": [
        {
          "output_type": "stream",
          "name": "stdout",
          "text": [
            "AUC: 0.8644822196857993\n"
          ]
        }
      ],
      "execution_count": 28
    }
  ]
}